{
 "cells": [
  {
   "attachments": {},
   "cell_type": "markdown",
   "metadata": {},
   "source": [
    "# __Predicting Airbnb Unlisting Project__ <img align='right' width='150' height='150' src='https://maiseducativa.com/wp-content/uploads/2015/02/Logo_Nova-IMS.jpg'>\n",
    "\n",
    "## <font color='SeaGreen'>__Text Mining__</font><br>\n",
    "\n",
    "> __Group O__ composed by:\n",
    ">> __Daniel Franco, nº20210719__ <p>\n",
    ">> __João Malho, nº20220696__ <p>\n",
    "\n",
    "***\n",
    "\n",
    "## 🧬 __Introduction__\n",
    "\n",
    "__Your solution should present the following points:__\n",
    "\n",
    "__1. Data Exploration (1.5 points):__\n",
    "\n",
    "Here you should analyze the corpora and provide some conclusions and visual information (bar charts, word clouds, etc.) that contextualize the data.\n",
    "\n",
    "__2. Data Preprocessing (2 points):__\n",
    "\n",
    "You must apply a method to split your training corpus into train/validation sets to evaluate the performance of your model (you can also resort to KFold cross validation, or other methods). Moreover, you must correctly implement and experiment at least four (4) of the data preprocessing techniques shown in class (stop words, regular expressions, lemmatization, stemming, etc.).\n",
    "\n",
    "__3. Feature Engineering (5 points):__\n",
    "\n",
    "You must correctly implement and experiment with two (2) of the feature engineering techniques seen in class (TF-IDF, GloVe embeddings, etc.).\n",
    "\n",
    "__4. Classification Models (4.5 points):__\n",
    "\n",
    "You must correctly implement and test three (3) of the classification algorithms seen in class (KNN, LR, MLP, LSTM, etc.). \n",
    "\n",
    "__5. Evaluation (1.5 points):__\n",
    "\n",
    "You must evaluate your models resorting, at least, to Recall, Precision, Accuracy and F1-Score.\n",
    "Moreover, the development of extra work (more techniques than the minimum required in the previous points and/or techniques not shown in class) is highly recommended and will account for a maximum of 4.5 points divided as follows:\n",
    "    \n",
    ">__1. Data Preprocessing__ – 0.25 points for each extra method (unseen in class) used (maximum of 2 extra methods).\n",
    "\n",
    ">__2. Feature Engineering__ – 1 point for each extra method using Transformed-based embeddings (maximum of 2 extra methods)\n",
    "\n",
    ">__3. Classification Models__ – 1 point for each extra\n",
    "\n",
    "\n",
    "## 📖 __Glossary__\n",
    "\n",
    "__The data is divided in following sets:__\n",
    "\n",
    "* __Train (train.xlsx) (12,496 lines):__\n",
    "\n",
    "> Contains the Airbnb and host descriptions (“description” and “host_about” columns), as well as the information regarding the property listing status (“unlisted” column). A property is considered unlisted (1) if it got removed from the quarterly Airbnb list and it is considered listed (1) if it remains on that same list.\n",
    "\n",
    "* __Train Reviews (train_reviews.xlsx) (72,1402):__ \n",
    "\n",
    "> This file has all the guests’ comments made to each Airbnb property. Note that there can be more than one comment per property, not all properties have comments, and comments can appear in many languages!\n",
    "\n",
    "* __Test (test.xlsx) (1,389 lines):__\n",
    "\n",
    "> The structure of this dataset is the same as the train set, except that it does not contain the “unlisted” column. The teaching team is keeping this information secret! You are expected to provide the predicted status (0 or 1) for each Airbnb in this set. Once the projects are delivered, we will compare your predictions with the actual (true) labels.\n",
    "\n",
    "* __Test Reviews (test_reviews.xlsx) (80,877):__ \n",
    "\n",
    "> The structure of this dataset is the same as the train reviews set, but the comments correspond to the properties present on the test set\n",
    "\n",
    "***\n",
    "\n",
    "## 📈 __Methodology__\n",
    "\n",
    "\n",
    "***\n",
    "## 👨🏻‍💻 __Code Changes__\n",
    "\n"
   ]
  },
  {
   "attachments": {},
   "cell_type": "markdown",
   "metadata": {},
   "source": [
    "### __1. Libraries and Data import__"
   ]
  },
  {
   "cell_type": "code",
   "execution_count": 50,
   "metadata": {},
   "outputs": [],
   "source": [
    "\n",
    "#!pip install wordcloud\n",
    "#!pip install langdetect\n",
    "#!pip install googletrans\n",
    "import os\n",
    "import re\n",
    "import requests\n",
    "import numpy as np\n",
    "import pandas as pd\n",
    "import seaborn as sns\n",
    "from PIL import Image\n",
    "from tqdm import tqdm\n",
    "from sklearn import metrics\n",
    "import plotly.express as px\n",
    "from langdetect import detect\n",
    "import matplotlib.pyplot as plt\n",
    "from sklearn.svm import LinearSVC\n",
    "from nltk.corpus import stopwords\n",
    "import plotly.graph_objects as go\n",
    "from googletrans import Translator\n",
    "from nltk.stem import SnowballStemmer\n",
    "from nltk.tokenize import word_tokenize\n",
    "from wordcloud import WordCloud, STOPWORDS \n",
    "from sklearn.tree import DecisionTreeClassifier\n",
    "from nltk.stem.wordnet import WordNetLemmatizer\n",
    "from sklearn.neural_network import MLPClassifier\n",
    "from sklearn.neighbors import KNeighborsClassifier\n",
    "from sklearn.linear_model import LogisticRegression\n",
    "from sklearn.ensemble import RandomForestClassifier\n",
    "from sklearn.naive_bayes import MultinomialNB, GaussianNB\n",
    "from sklearn.feature_extraction.text import TfidfVectorizer\n",
    "from sklearn.model_selection import train_test_split, cross_val_score\n",
    "from sklearn.metrics import confusion_matrix, classification_report, accuracy_score, precision_score, recall_score, f1_score\n",
    "\n",
    "\n",
    "#nltk.download('stopwords')\n",
    "#nltk.download('punkt')\n",
    "#nltk.download('wordnet')"
   ]
  },
  {
   "cell_type": "code",
   "execution_count": 5,
   "metadata": {},
   "outputs": [],
   "source": [
    "current_directory = os.getcwd()\n",
    "\n",
    "corpora_test = pd.read_excel(os.path.join(current_directory, 'test.xlsx'))\n",
    "corpora_train = pd.read_excel(os.path.join(current_directory, 'train.xlsx'))\n",
    "corpora_test_review = pd.read_excel(os.path.join(current_directory, 'test_reviews.xlsx'))\n",
    "corpora_train_review = pd.read_excel(os.path.join(current_directory, 'train_reviews.xlsx'))\n"
   ]
  },
  {
   "attachments": {},
   "cell_type": "markdown",
   "metadata": {},
   "source": [
    "## 1. Data Exploration \n",
    "* data presentation and explanation of the main finding from the exploratory analysis (accounts for 50% of criteria 4.1)."
   ]
  },
  {
   "cell_type": "code",
   "execution_count": 6,
   "metadata": {},
   "outputs": [
    {
     "name": "stdout",
     "output_type": "stream",
     "text": [
      "<class 'pandas.core.frame.DataFrame'>\n",
      "RangeIndex: 1389 entries, 0 to 1388\n",
      "Data columns (total 3 columns):\n",
      " #   Column       Non-Null Count  Dtype \n",
      "---  ------       --------------  ----- \n",
      " 0   index        1389 non-null   int64 \n",
      " 1   description  1389 non-null   object\n",
      " 2   host_about   1389 non-null   object\n",
      "dtypes: int64(1), object(2)\n",
      "memory usage: 32.7+ KB\n"
     ]
    }
   ],
   "source": [
    "# Check data information\n",
    "corpora_test.info()"
   ]
  },
  {
   "cell_type": "code",
   "execution_count": 7,
   "metadata": {},
   "outputs": [
    {
     "name": "stdout",
     "output_type": "stream",
     "text": [
      "<class 'pandas.core.frame.DataFrame'>\n",
      "RangeIndex: 12496 entries, 0 to 12495\n",
      "Data columns (total 4 columns):\n",
      " #   Column       Non-Null Count  Dtype \n",
      "---  ------       --------------  ----- \n",
      " 0   index        12496 non-null  int64 \n",
      " 1   description  12496 non-null  object\n",
      " 2   host_about   12496 non-null  object\n",
      " 3   unlisted     12496 non-null  int64 \n",
      "dtypes: int64(2), object(2)\n",
      "memory usage: 390.6+ KB\n"
     ]
    }
   ],
   "source": [
    "corpora_train.info()"
   ]
  },
  {
   "cell_type": "code",
   "execution_count": 8,
   "metadata": {},
   "outputs": [
    {
     "name": "stdout",
     "output_type": "stream",
     "text": [
      "<class 'pandas.core.frame.DataFrame'>\n",
      "RangeIndex: 80877 entries, 0 to 80876\n",
      "Data columns (total 2 columns):\n",
      " #   Column    Non-Null Count  Dtype \n",
      "---  ------    --------------  ----- \n",
      " 0   index     80877 non-null  int64 \n",
      " 1   comments  80877 non-null  object\n",
      "dtypes: int64(1), object(1)\n",
      "memory usage: 1.2+ MB\n"
     ]
    }
   ],
   "source": [
    "corpora_test_review.info()"
   ]
  },
  {
   "cell_type": "code",
   "execution_count": 9,
   "metadata": {},
   "outputs": [
    {
     "data": {
      "text/html": [
       "<div>\n",
       "<style scoped>\n",
       "    .dataframe tbody tr th:only-of-type {\n",
       "        vertical-align: middle;\n",
       "    }\n",
       "\n",
       "    .dataframe tbody tr th {\n",
       "        vertical-align: top;\n",
       "    }\n",
       "\n",
       "    .dataframe thead th {\n",
       "        text-align: right;\n",
       "    }\n",
       "</style>\n",
       "<table border=\"1\" class=\"dataframe\">\n",
       "  <thead>\n",
       "    <tr style=\"text-align: right;\">\n",
       "      <th></th>\n",
       "      <th>index</th>\n",
       "      <th>comments</th>\n",
       "    </tr>\n",
       "  </thead>\n",
       "  <tbody>\n",
       "    <tr>\n",
       "      <th>0</th>\n",
       "      <td>1</td>\n",
       "      <td>this is a very cozy and comfortable house to s...</td>\n",
       "    </tr>\n",
       "    <tr>\n",
       "      <th>1</th>\n",
       "      <td>1</td>\n",
       "      <td>good&lt;br/&gt;</td>\n",
       "    </tr>\n",
       "    <tr>\n",
       "      <th>2</th>\n",
       "      <td>1</td>\n",
       "      <td>My first hostel experience, and all I have to ...</td>\n",
       "    </tr>\n",
       "    <tr>\n",
       "      <th>3</th>\n",
       "      <td>1</td>\n",
       "      <td>Das Hostel war neu und deshalb funktionierte a...</td>\n",
       "    </tr>\n",
       "    <tr>\n",
       "      <th>4</th>\n",
       "      <td>1</td>\n",
       "      <td>It was fine for a dorm, but I think for the pe...</td>\n",
       "    </tr>\n",
       "    <tr>\n",
       "      <th>5</th>\n",
       "      <td>1</td>\n",
       "      <td>Our stay in Lisbon Tip Hostel was very good. T...</td>\n",
       "    </tr>\n",
       "    <tr>\n",
       "      <th>6</th>\n",
       "      <td>1</td>\n",
       "      <td>Close to shops in town and a comfortable place...</td>\n",
       "    </tr>\n",
       "    <tr>\n",
       "      <th>7</th>\n",
       "      <td>1</td>\n",
       "      <td>Young and friendly staff. Great location along...</td>\n",
       "    </tr>\n",
       "    <tr>\n",
       "      <th>8</th>\n",
       "      <td>1</td>\n",
       "      <td>The place is just off the Parque metro stop wh...</td>\n",
       "    </tr>\n",
       "    <tr>\n",
       "      <th>9</th>\n",
       "      <td>1</td>\n",
       "      <td>Had a nice stay at this hostel. The beds were ...</td>\n",
       "    </tr>\n",
       "  </tbody>\n",
       "</table>\n",
       "</div>"
      ],
      "text/plain": [
       "   index                                           comments\n",
       "0      1  this is a very cozy and comfortable house to s...\n",
       "1      1                                          good<br/>\n",
       "2      1  My first hostel experience, and all I have to ...\n",
       "3      1  Das Hostel war neu und deshalb funktionierte a...\n",
       "4      1  It was fine for a dorm, but I think for the pe...\n",
       "5      1  Our stay in Lisbon Tip Hostel was very good. T...\n",
       "6      1  Close to shops in town and a comfortable place...\n",
       "7      1  Young and friendly staff. Great location along...\n",
       "8      1  The place is just off the Parque metro stop wh...\n",
       "9      1  Had a nice stay at this hostel. The beds were ..."
      ]
     },
     "execution_count": 9,
     "metadata": {},
     "output_type": "execute_result"
    }
   ],
   "source": [
    "corpora_train_review.head(10)"
   ]
  },
  {
   "cell_type": "code",
   "execution_count": 10,
   "metadata": {},
   "outputs": [
    {
     "data": {
      "text/html": [
       "<div>\n",
       "<style scoped>\n",
       "    .dataframe tbody tr th:only-of-type {\n",
       "        vertical-align: middle;\n",
       "    }\n",
       "\n",
       "    .dataframe tbody tr th {\n",
       "        vertical-align: top;\n",
       "    }\n",
       "\n",
       "    .dataframe thead th {\n",
       "        text-align: right;\n",
       "    }\n",
       "</style>\n",
       "<table border=\"1\" class=\"dataframe\">\n",
       "  <thead>\n",
       "    <tr style=\"text-align: right;\">\n",
       "      <th></th>\n",
       "      <th>index</th>\n",
       "      <th>description</th>\n",
       "      <th>host_about</th>\n",
       "      <th>unlisted</th>\n",
       "    </tr>\n",
       "  </thead>\n",
       "  <tbody>\n",
       "    <tr>\n",
       "      <th>0</th>\n",
       "      <td>1</td>\n",
       "      <td>This is a shared mixed room in our hostel, wit...</td>\n",
       "      <td>Alojamento Local Registro: 20835/AL</td>\n",
       "      <td>0</td>\n",
       "    </tr>\n",
       "    <tr>\n",
       "      <th>1</th>\n",
       "      <td>2</td>\n",
       "      <td>O meu espaço fica perto de Parque Eduardo VII,...</td>\n",
       "      <td>I am friendly host, and I will try to always b...</td>\n",
       "      <td>1</td>\n",
       "    </tr>\n",
       "  </tbody>\n",
       "</table>\n",
       "</div>"
      ],
      "text/plain": [
       "   index                                        description   \n",
       "0      1  This is a shared mixed room in our hostel, wit...  \\\n",
       "1      2  O meu espaço fica perto de Parque Eduardo VII,...   \n",
       "\n",
       "                                          host_about  unlisted  \n",
       "0                Alojamento Local Registro: 20835/AL         0  \n",
       "1  I am friendly host, and I will try to always b...         1  "
      ]
     },
     "execution_count": 10,
     "metadata": {},
     "output_type": "execute_result"
    }
   ],
   "source": [
    "corpora_train.head(2)\n",
    "\n",
    "# Hotels names, user names, numbers"
   ]
  },
  {
   "cell_type": "code",
   "execution_count": 11,
   "metadata": {},
   "outputs": [
    {
     "data": {
      "application/vnd.plotly.v1+json": {
       "config": {
        "plotlyServerURL": "https://plot.ly"
       },
       "data": [
        {
         "marker": {
          "color": "rgb(121, 157, 196)"
         },
         "orientation": "h",
         "type": "bar",
         "x": [
          72.2871318822023,
          27.712868117797694
         ],
         "y": [
          0,
          1
         ]
        }
       ],
       "layout": {
        "annotations": [
         {
          "font": {
           "color": "black",
           "size": 12
          },
          "showarrow": false,
          "text": "72.3%",
          "x": 74.2871318822023,
          "y": 0
         },
         {
          "font": {
           "color": "black",
           "size": 12
          },
          "showarrow": false,
          "text": "27.7%",
          "x": 29.712868117797694,
          "y": 1
         }
        ],
        "height": 400,
        "margin": {
         "b": 20,
         "l": 100,
         "r": 20,
         "t": 60
        },
        "template": {
         "data": {
          "bar": [
           {
            "error_x": {
             "color": "#2a3f5f"
            },
            "error_y": {
             "color": "#2a3f5f"
            },
            "marker": {
             "line": {
              "color": "#E5ECF6",
              "width": 0.5
             },
             "pattern": {
              "fillmode": "overlay",
              "size": 10,
              "solidity": 0.2
             }
            },
            "type": "bar"
           }
          ],
          "barpolar": [
           {
            "marker": {
             "line": {
              "color": "#E5ECF6",
              "width": 0.5
             },
             "pattern": {
              "fillmode": "overlay",
              "size": 10,
              "solidity": 0.2
             }
            },
            "type": "barpolar"
           }
          ],
          "carpet": [
           {
            "aaxis": {
             "endlinecolor": "#2a3f5f",
             "gridcolor": "white",
             "linecolor": "white",
             "minorgridcolor": "white",
             "startlinecolor": "#2a3f5f"
            },
            "baxis": {
             "endlinecolor": "#2a3f5f",
             "gridcolor": "white",
             "linecolor": "white",
             "minorgridcolor": "white",
             "startlinecolor": "#2a3f5f"
            },
            "type": "carpet"
           }
          ],
          "choropleth": [
           {
            "colorbar": {
             "outlinewidth": 0,
             "ticks": ""
            },
            "type": "choropleth"
           }
          ],
          "contour": [
           {
            "colorbar": {
             "outlinewidth": 0,
             "ticks": ""
            },
            "colorscale": [
             [
              0,
              "#0d0887"
             ],
             [
              0.1111111111111111,
              "#46039f"
             ],
             [
              0.2222222222222222,
              "#7201a8"
             ],
             [
              0.3333333333333333,
              "#9c179e"
             ],
             [
              0.4444444444444444,
              "#bd3786"
             ],
             [
              0.5555555555555556,
              "#d8576b"
             ],
             [
              0.6666666666666666,
              "#ed7953"
             ],
             [
              0.7777777777777778,
              "#fb9f3a"
             ],
             [
              0.8888888888888888,
              "#fdca26"
             ],
             [
              1,
              "#f0f921"
             ]
            ],
            "type": "contour"
           }
          ],
          "contourcarpet": [
           {
            "colorbar": {
             "outlinewidth": 0,
             "ticks": ""
            },
            "type": "contourcarpet"
           }
          ],
          "heatmap": [
           {
            "colorbar": {
             "outlinewidth": 0,
             "ticks": ""
            },
            "colorscale": [
             [
              0,
              "#0d0887"
             ],
             [
              0.1111111111111111,
              "#46039f"
             ],
             [
              0.2222222222222222,
              "#7201a8"
             ],
             [
              0.3333333333333333,
              "#9c179e"
             ],
             [
              0.4444444444444444,
              "#bd3786"
             ],
             [
              0.5555555555555556,
              "#d8576b"
             ],
             [
              0.6666666666666666,
              "#ed7953"
             ],
             [
              0.7777777777777778,
              "#fb9f3a"
             ],
             [
              0.8888888888888888,
              "#fdca26"
             ],
             [
              1,
              "#f0f921"
             ]
            ],
            "type": "heatmap"
           }
          ],
          "heatmapgl": [
           {
            "colorbar": {
             "outlinewidth": 0,
             "ticks": ""
            },
            "colorscale": [
             [
              0,
              "#0d0887"
             ],
             [
              0.1111111111111111,
              "#46039f"
             ],
             [
              0.2222222222222222,
              "#7201a8"
             ],
             [
              0.3333333333333333,
              "#9c179e"
             ],
             [
              0.4444444444444444,
              "#bd3786"
             ],
             [
              0.5555555555555556,
              "#d8576b"
             ],
             [
              0.6666666666666666,
              "#ed7953"
             ],
             [
              0.7777777777777778,
              "#fb9f3a"
             ],
             [
              0.8888888888888888,
              "#fdca26"
             ],
             [
              1,
              "#f0f921"
             ]
            ],
            "type": "heatmapgl"
           }
          ],
          "histogram": [
           {
            "marker": {
             "pattern": {
              "fillmode": "overlay",
              "size": 10,
              "solidity": 0.2
             }
            },
            "type": "histogram"
           }
          ],
          "histogram2d": [
           {
            "colorbar": {
             "outlinewidth": 0,
             "ticks": ""
            },
            "colorscale": [
             [
              0,
              "#0d0887"
             ],
             [
              0.1111111111111111,
              "#46039f"
             ],
             [
              0.2222222222222222,
              "#7201a8"
             ],
             [
              0.3333333333333333,
              "#9c179e"
             ],
             [
              0.4444444444444444,
              "#bd3786"
             ],
             [
              0.5555555555555556,
              "#d8576b"
             ],
             [
              0.6666666666666666,
              "#ed7953"
             ],
             [
              0.7777777777777778,
              "#fb9f3a"
             ],
             [
              0.8888888888888888,
              "#fdca26"
             ],
             [
              1,
              "#f0f921"
             ]
            ],
            "type": "histogram2d"
           }
          ],
          "histogram2dcontour": [
           {
            "colorbar": {
             "outlinewidth": 0,
             "ticks": ""
            },
            "colorscale": [
             [
              0,
              "#0d0887"
             ],
             [
              0.1111111111111111,
              "#46039f"
             ],
             [
              0.2222222222222222,
              "#7201a8"
             ],
             [
              0.3333333333333333,
              "#9c179e"
             ],
             [
              0.4444444444444444,
              "#bd3786"
             ],
             [
              0.5555555555555556,
              "#d8576b"
             ],
             [
              0.6666666666666666,
              "#ed7953"
             ],
             [
              0.7777777777777778,
              "#fb9f3a"
             ],
             [
              0.8888888888888888,
              "#fdca26"
             ],
             [
              1,
              "#f0f921"
             ]
            ],
            "type": "histogram2dcontour"
           }
          ],
          "mesh3d": [
           {
            "colorbar": {
             "outlinewidth": 0,
             "ticks": ""
            },
            "type": "mesh3d"
           }
          ],
          "parcoords": [
           {
            "line": {
             "colorbar": {
              "outlinewidth": 0,
              "ticks": ""
             }
            },
            "type": "parcoords"
           }
          ],
          "pie": [
           {
            "automargin": true,
            "type": "pie"
           }
          ],
          "scatter": [
           {
            "fillpattern": {
             "fillmode": "overlay",
             "size": 10,
             "solidity": 0.2
            },
            "type": "scatter"
           }
          ],
          "scatter3d": [
           {
            "line": {
             "colorbar": {
              "outlinewidth": 0,
              "ticks": ""
             }
            },
            "marker": {
             "colorbar": {
              "outlinewidth": 0,
              "ticks": ""
             }
            },
            "type": "scatter3d"
           }
          ],
          "scattercarpet": [
           {
            "marker": {
             "colorbar": {
              "outlinewidth": 0,
              "ticks": ""
             }
            },
            "type": "scattercarpet"
           }
          ],
          "scattergeo": [
           {
            "marker": {
             "colorbar": {
              "outlinewidth": 0,
              "ticks": ""
             }
            },
            "type": "scattergeo"
           }
          ],
          "scattergl": [
           {
            "marker": {
             "colorbar": {
              "outlinewidth": 0,
              "ticks": ""
             }
            },
            "type": "scattergl"
           }
          ],
          "scattermapbox": [
           {
            "marker": {
             "colorbar": {
              "outlinewidth": 0,
              "ticks": ""
             }
            },
            "type": "scattermapbox"
           }
          ],
          "scatterpolar": [
           {
            "marker": {
             "colorbar": {
              "outlinewidth": 0,
              "ticks": ""
             }
            },
            "type": "scatterpolar"
           }
          ],
          "scatterpolargl": [
           {
            "marker": {
             "colorbar": {
              "outlinewidth": 0,
              "ticks": ""
             }
            },
            "type": "scatterpolargl"
           }
          ],
          "scatterternary": [
           {
            "marker": {
             "colorbar": {
              "outlinewidth": 0,
              "ticks": ""
             }
            },
            "type": "scatterternary"
           }
          ],
          "surface": [
           {
            "colorbar": {
             "outlinewidth": 0,
             "ticks": ""
            },
            "colorscale": [
             [
              0,
              "#0d0887"
             ],
             [
              0.1111111111111111,
              "#46039f"
             ],
             [
              0.2222222222222222,
              "#7201a8"
             ],
             [
              0.3333333333333333,
              "#9c179e"
             ],
             [
              0.4444444444444444,
              "#bd3786"
             ],
             [
              0.5555555555555556,
              "#d8576b"
             ],
             [
              0.6666666666666666,
              "#ed7953"
             ],
             [
              0.7777777777777778,
              "#fb9f3a"
             ],
             [
              0.8888888888888888,
              "#fdca26"
             ],
             [
              1,
              "#f0f921"
             ]
            ],
            "type": "surface"
           }
          ],
          "table": [
           {
            "cells": {
             "fill": {
              "color": "#EBF0F8"
             },
             "line": {
              "color": "white"
             }
            },
            "header": {
             "fill": {
              "color": "#C8D4E3"
             },
             "line": {
              "color": "white"
             }
            },
            "type": "table"
           }
          ]
         },
         "layout": {
          "annotationdefaults": {
           "arrowcolor": "#2a3f5f",
           "arrowhead": 0,
           "arrowwidth": 1
          },
          "autotypenumbers": "strict",
          "coloraxis": {
           "colorbar": {
            "outlinewidth": 0,
            "ticks": ""
           }
          },
          "colorscale": {
           "diverging": [
            [
             0,
             "#8e0152"
            ],
            [
             0.1,
             "#c51b7d"
            ],
            [
             0.2,
             "#de77ae"
            ],
            [
             0.3,
             "#f1b6da"
            ],
            [
             0.4,
             "#fde0ef"
            ],
            [
             0.5,
             "#f7f7f7"
            ],
            [
             0.6,
             "#e6f5d0"
            ],
            [
             0.7,
             "#b8e186"
            ],
            [
             0.8,
             "#7fbc41"
            ],
            [
             0.9,
             "#4d9221"
            ],
            [
             1,
             "#276419"
            ]
           ],
           "sequential": [
            [
             0,
             "#0d0887"
            ],
            [
             0.1111111111111111,
             "#46039f"
            ],
            [
             0.2222222222222222,
             "#7201a8"
            ],
            [
             0.3333333333333333,
             "#9c179e"
            ],
            [
             0.4444444444444444,
             "#bd3786"
            ],
            [
             0.5555555555555556,
             "#d8576b"
            ],
            [
             0.6666666666666666,
             "#ed7953"
            ],
            [
             0.7777777777777778,
             "#fb9f3a"
            ],
            [
             0.8888888888888888,
             "#fdca26"
            ],
            [
             1,
             "#f0f921"
            ]
           ],
           "sequentialminus": [
            [
             0,
             "#0d0887"
            ],
            [
             0.1111111111111111,
             "#46039f"
            ],
            [
             0.2222222222222222,
             "#7201a8"
            ],
            [
             0.3333333333333333,
             "#9c179e"
            ],
            [
             0.4444444444444444,
             "#bd3786"
            ],
            [
             0.5555555555555556,
             "#d8576b"
            ],
            [
             0.6666666666666666,
             "#ed7953"
            ],
            [
             0.7777777777777778,
             "#fb9f3a"
            ],
            [
             0.8888888888888888,
             "#fdca26"
            ],
            [
             1,
             "#f0f921"
            ]
           ]
          },
          "colorway": [
           "#636efa",
           "#EF553B",
           "#00cc96",
           "#ab63fa",
           "#FFA15A",
           "#19d3f3",
           "#FF6692",
           "#B6E880",
           "#FF97FF",
           "#FECB52"
          ],
          "font": {
           "color": "#2a3f5f"
          },
          "geo": {
           "bgcolor": "white",
           "lakecolor": "white",
           "landcolor": "#E5ECF6",
           "showlakes": true,
           "showland": true,
           "subunitcolor": "white"
          },
          "hoverlabel": {
           "align": "left"
          },
          "hovermode": "closest",
          "mapbox": {
           "style": "light"
          },
          "paper_bgcolor": "white",
          "plot_bgcolor": "#E5ECF6",
          "polar": {
           "angularaxis": {
            "gridcolor": "white",
            "linecolor": "white",
            "ticks": ""
           },
           "bgcolor": "#E5ECF6",
           "radialaxis": {
            "gridcolor": "white",
            "linecolor": "white",
            "ticks": ""
           }
          },
          "scene": {
           "xaxis": {
            "backgroundcolor": "#E5ECF6",
            "gridcolor": "white",
            "gridwidth": 2,
            "linecolor": "white",
            "showbackground": true,
            "ticks": "",
            "zerolinecolor": "white"
           },
           "yaxis": {
            "backgroundcolor": "#E5ECF6",
            "gridcolor": "white",
            "gridwidth": 2,
            "linecolor": "white",
            "showbackground": true,
            "ticks": "",
            "zerolinecolor": "white"
           },
           "zaxis": {
            "backgroundcolor": "#E5ECF6",
            "gridcolor": "white",
            "gridwidth": 2,
            "linecolor": "white",
            "showbackground": true,
            "ticks": "",
            "zerolinecolor": "white"
           }
          },
          "shapedefaults": {
           "line": {
            "color": "#2a3f5f"
           }
          },
          "ternary": {
           "aaxis": {
            "gridcolor": "white",
            "linecolor": "white",
            "ticks": ""
           },
           "baxis": {
            "gridcolor": "white",
            "linecolor": "white",
            "ticks": ""
           },
           "bgcolor": "#E5ECF6",
           "caxis": {
            "gridcolor": "white",
            "linecolor": "white",
            "ticks": ""
           }
          },
          "title": {
           "x": 0.05
          },
          "xaxis": {
           "automargin": true,
           "gridcolor": "white",
           "linecolor": "white",
           "ticks": "",
           "title": {
            "standoff": 15
           },
           "zerolinecolor": "white",
           "zerolinewidth": 2
          },
          "yaxis": {
           "automargin": true,
           "gridcolor": "white",
           "linecolor": "white",
           "ticks": "",
           "title": {
            "standoff": 15
           },
           "zerolinecolor": "white",
           "zerolinewidth": 2
          }
         }
        },
        "title": {
         "text": "Count of Unlisted"
        },
        "width": 800,
        "xaxis": {
         "title": {
          "text": "Percentage"
         }
        },
        "yaxis": {
         "autorange": "reversed",
         "title": {
          "text": "Unlisted"
         }
        }
       }
      }
     },
     "metadata": {},
     "output_type": "display_data"
    }
   ],
   "source": [
    "# Calculate the percentage for each category\n",
    "total = len(corpora_train)\n",
    "corpora_train_counts = corpora_train['unlisted'].value_counts()\n",
    "corpora_train_percentages = 100 * corpora_train_counts / total\n",
    "\n",
    "# Create the horizontal bar chart\n",
    "fig = go.Figure(data=[\n",
    "    go.Bar(\n",
    "        y=corpora_train_percentages.index,\n",
    "        x=corpora_train_percentages.values,\n",
    "        orientation='h',\n",
    "        marker=dict(color='rgb(121, 157, 196)')\n",
    "    )\n",
    "])\n",
    "\n",
    "# Add percentage labels to each bar\n",
    "for i, percentage in enumerate(corpora_train_percentages.values):\n",
    "    fig.add_annotation(\n",
    "        x=percentage + 2,\n",
    "        y=corpora_train_percentages.index[i],\n",
    "        text=f'{percentage:.1f}%',\n",
    "        showarrow=False,\n",
    "        font=dict(size=12, color='black')\n",
    "    )\n",
    "\n",
    "# Set the layout\n",
    "fig.update_layout(\n",
    "    title='Count of Unlisted',\n",
    "    xaxis_title='Percentage',\n",
    "    yaxis_title='Unlisted',\n",
    "    yaxis=dict(autorange=\"reversed\"),\n",
    "    height=400,\n",
    "    width=800,\n",
    "    margin=dict(l=100, r=20, t=60, b=20)\n",
    ")\n",
    "\n",
    "# Show the plot\n",
    "fig.show()\n"
   ]
  },
  {
   "attachments": {},
   "cell_type": "markdown",
   "metadata": {},
   "source": [
    "* __Noted that train data is not balanced, model will be train with ~28% of unlisted individuals.__"
   ]
  },
  {
   "cell_type": "code",
   "execution_count": 12,
   "metadata": {},
   "outputs": [],
   "source": [
    "# detect language\n",
    "def detect_textlang(text):\n",
    "    try:\n",
    "        src_lang = detect(text)\n",
    "        if src_lang =='en':\n",
    "            return 'en'\n",
    "        else:\n",
    "        #return \"NA\"    \n",
    "            return src_lang\n",
    "    except:\n",
    "        return \"NA\"\n",
    "corpora_train['description_language']=corpora_train.description.apply(detect_textlang)\n",
    "#corpora_train_review['comments_language']=corpora_train_review.comments.apply(detect_textlang)"
   ]
  },
  {
   "cell_type": "code",
   "execution_count": 14,
   "metadata": {},
   "outputs": [
    {
     "data": {
      "application/vnd.plotly.v1+json": {
       "config": {
        "plotlyServerURL": "https://plot.ly"
       },
       "data": [
        {
         "marker": {
          "color": "rgb(121, 157, 196)"
         },
         "orientation": "h",
         "type": "bar",
         "x": [
          81.68213828425095,
          14.708706786171575,
          1.224391805377721,
          1.048335467349552,
          0.704225352112676,
          0.38412291933418696,
          0.056017925736235596,
          0.04801536491677337,
          0.03201024327784891,
          0.03201024327784891,
          0.03201024327784891,
          0.024007682458386685,
          0.016005121638924456,
          0.008002560819462228
         ],
         "y": [
          "en",
          "pt",
          "fr",
          "da",
          "de",
          "es",
          "ca",
          "sv",
          "no",
          "zh-cn",
          "nl",
          "ru",
          "it",
          "pl"
         ]
        }
       ],
       "layout": {
        "annotations": [
         {
          "font": {
           "color": "black",
           "size": 12
          },
          "showarrow": false,
          "text": "81.7%",
          "x": 83.68213828425095,
          "y": "en"
         },
         {
          "font": {
           "color": "black",
           "size": 12
          },
          "showarrow": false,
          "text": "14.7%",
          "x": 16.708706786171575,
          "y": "pt"
         },
         {
          "font": {
           "color": "black",
           "size": 12
          },
          "showarrow": false,
          "text": "1.2%",
          "x": 3.2243918053777207,
          "y": "fr"
         },
         {
          "font": {
           "color": "black",
           "size": 12
          },
          "showarrow": false,
          "text": "1.0%",
          "x": 3.0483354673495517,
          "y": "da"
         },
         {
          "font": {
           "color": "black",
           "size": 12
          },
          "showarrow": false,
          "text": "0.7%",
          "x": 2.704225352112676,
          "y": "de"
         },
         {
          "font": {
           "color": "black",
           "size": 12
          },
          "showarrow": false,
          "text": "0.4%",
          "x": 2.384122919334187,
          "y": "es"
         },
         {
          "font": {
           "color": "black",
           "size": 12
          },
          "showarrow": false,
          "text": "0.1%",
          "x": 2.0560179257362354,
          "y": "ca"
         },
         {
          "font": {
           "color": "black",
           "size": 12
          },
          "showarrow": false,
          "text": "0.0%",
          "x": 2.048015364916773,
          "y": "sv"
         },
         {
          "font": {
           "color": "black",
           "size": 12
          },
          "showarrow": false,
          "text": "0.0%",
          "x": 2.032010243277849,
          "y": "no"
         },
         {
          "font": {
           "color": "black",
           "size": 12
          },
          "showarrow": false,
          "text": "0.0%",
          "x": 2.032010243277849,
          "y": "zh-cn"
         },
         {
          "font": {
           "color": "black",
           "size": 12
          },
          "showarrow": false,
          "text": "0.0%",
          "x": 2.032010243277849,
          "y": "nl"
         },
         {
          "font": {
           "color": "black",
           "size": 12
          },
          "showarrow": false,
          "text": "0.0%",
          "x": 2.024007682458387,
          "y": "ru"
         },
         {
          "font": {
           "color": "black",
           "size": 12
          },
          "showarrow": false,
          "text": "0.0%",
          "x": 2.0160051216389245,
          "y": "it"
         },
         {
          "font": {
           "color": "black",
           "size": 12
          },
          "showarrow": false,
          "text": "0.0%",
          "x": 2.0080025608194623,
          "y": "pl"
         }
        ],
        "height": 400,
        "margin": {
         "b": 20,
         "l": 100,
         "r": 20,
         "t": 60
        },
        "template": {
         "data": {
          "bar": [
           {
            "error_x": {
             "color": "#2a3f5f"
            },
            "error_y": {
             "color": "#2a3f5f"
            },
            "marker": {
             "line": {
              "color": "#E5ECF6",
              "width": 0.5
             },
             "pattern": {
              "fillmode": "overlay",
              "size": 10,
              "solidity": 0.2
             }
            },
            "type": "bar"
           }
          ],
          "barpolar": [
           {
            "marker": {
             "line": {
              "color": "#E5ECF6",
              "width": 0.5
             },
             "pattern": {
              "fillmode": "overlay",
              "size": 10,
              "solidity": 0.2
             }
            },
            "type": "barpolar"
           }
          ],
          "carpet": [
           {
            "aaxis": {
             "endlinecolor": "#2a3f5f",
             "gridcolor": "white",
             "linecolor": "white",
             "minorgridcolor": "white",
             "startlinecolor": "#2a3f5f"
            },
            "baxis": {
             "endlinecolor": "#2a3f5f",
             "gridcolor": "white",
             "linecolor": "white",
             "minorgridcolor": "white",
             "startlinecolor": "#2a3f5f"
            },
            "type": "carpet"
           }
          ],
          "choropleth": [
           {
            "colorbar": {
             "outlinewidth": 0,
             "ticks": ""
            },
            "type": "choropleth"
           }
          ],
          "contour": [
           {
            "colorbar": {
             "outlinewidth": 0,
             "ticks": ""
            },
            "colorscale": [
             [
              0,
              "#0d0887"
             ],
             [
              0.1111111111111111,
              "#46039f"
             ],
             [
              0.2222222222222222,
              "#7201a8"
             ],
             [
              0.3333333333333333,
              "#9c179e"
             ],
             [
              0.4444444444444444,
              "#bd3786"
             ],
             [
              0.5555555555555556,
              "#d8576b"
             ],
             [
              0.6666666666666666,
              "#ed7953"
             ],
             [
              0.7777777777777778,
              "#fb9f3a"
             ],
             [
              0.8888888888888888,
              "#fdca26"
             ],
             [
              1,
              "#f0f921"
             ]
            ],
            "type": "contour"
           }
          ],
          "contourcarpet": [
           {
            "colorbar": {
             "outlinewidth": 0,
             "ticks": ""
            },
            "type": "contourcarpet"
           }
          ],
          "heatmap": [
           {
            "colorbar": {
             "outlinewidth": 0,
             "ticks": ""
            },
            "colorscale": [
             [
              0,
              "#0d0887"
             ],
             [
              0.1111111111111111,
              "#46039f"
             ],
             [
              0.2222222222222222,
              "#7201a8"
             ],
             [
              0.3333333333333333,
              "#9c179e"
             ],
             [
              0.4444444444444444,
              "#bd3786"
             ],
             [
              0.5555555555555556,
              "#d8576b"
             ],
             [
              0.6666666666666666,
              "#ed7953"
             ],
             [
              0.7777777777777778,
              "#fb9f3a"
             ],
             [
              0.8888888888888888,
              "#fdca26"
             ],
             [
              1,
              "#f0f921"
             ]
            ],
            "type": "heatmap"
           }
          ],
          "heatmapgl": [
           {
            "colorbar": {
             "outlinewidth": 0,
             "ticks": ""
            },
            "colorscale": [
             [
              0,
              "#0d0887"
             ],
             [
              0.1111111111111111,
              "#46039f"
             ],
             [
              0.2222222222222222,
              "#7201a8"
             ],
             [
              0.3333333333333333,
              "#9c179e"
             ],
             [
              0.4444444444444444,
              "#bd3786"
             ],
             [
              0.5555555555555556,
              "#d8576b"
             ],
             [
              0.6666666666666666,
              "#ed7953"
             ],
             [
              0.7777777777777778,
              "#fb9f3a"
             ],
             [
              0.8888888888888888,
              "#fdca26"
             ],
             [
              1,
              "#f0f921"
             ]
            ],
            "type": "heatmapgl"
           }
          ],
          "histogram": [
           {
            "marker": {
             "pattern": {
              "fillmode": "overlay",
              "size": 10,
              "solidity": 0.2
             }
            },
            "type": "histogram"
           }
          ],
          "histogram2d": [
           {
            "colorbar": {
             "outlinewidth": 0,
             "ticks": ""
            },
            "colorscale": [
             [
              0,
              "#0d0887"
             ],
             [
              0.1111111111111111,
              "#46039f"
             ],
             [
              0.2222222222222222,
              "#7201a8"
             ],
             [
              0.3333333333333333,
              "#9c179e"
             ],
             [
              0.4444444444444444,
              "#bd3786"
             ],
             [
              0.5555555555555556,
              "#d8576b"
             ],
             [
              0.6666666666666666,
              "#ed7953"
             ],
             [
              0.7777777777777778,
              "#fb9f3a"
             ],
             [
              0.8888888888888888,
              "#fdca26"
             ],
             [
              1,
              "#f0f921"
             ]
            ],
            "type": "histogram2d"
           }
          ],
          "histogram2dcontour": [
           {
            "colorbar": {
             "outlinewidth": 0,
             "ticks": ""
            },
            "colorscale": [
             [
              0,
              "#0d0887"
             ],
             [
              0.1111111111111111,
              "#46039f"
             ],
             [
              0.2222222222222222,
              "#7201a8"
             ],
             [
              0.3333333333333333,
              "#9c179e"
             ],
             [
              0.4444444444444444,
              "#bd3786"
             ],
             [
              0.5555555555555556,
              "#d8576b"
             ],
             [
              0.6666666666666666,
              "#ed7953"
             ],
             [
              0.7777777777777778,
              "#fb9f3a"
             ],
             [
              0.8888888888888888,
              "#fdca26"
             ],
             [
              1,
              "#f0f921"
             ]
            ],
            "type": "histogram2dcontour"
           }
          ],
          "mesh3d": [
           {
            "colorbar": {
             "outlinewidth": 0,
             "ticks": ""
            },
            "type": "mesh3d"
           }
          ],
          "parcoords": [
           {
            "line": {
             "colorbar": {
              "outlinewidth": 0,
              "ticks": ""
             }
            },
            "type": "parcoords"
           }
          ],
          "pie": [
           {
            "automargin": true,
            "type": "pie"
           }
          ],
          "scatter": [
           {
            "fillpattern": {
             "fillmode": "overlay",
             "size": 10,
             "solidity": 0.2
            },
            "type": "scatter"
           }
          ],
          "scatter3d": [
           {
            "line": {
             "colorbar": {
              "outlinewidth": 0,
              "ticks": ""
             }
            },
            "marker": {
             "colorbar": {
              "outlinewidth": 0,
              "ticks": ""
             }
            },
            "type": "scatter3d"
           }
          ],
          "scattercarpet": [
           {
            "marker": {
             "colorbar": {
              "outlinewidth": 0,
              "ticks": ""
             }
            },
            "type": "scattercarpet"
           }
          ],
          "scattergeo": [
           {
            "marker": {
             "colorbar": {
              "outlinewidth": 0,
              "ticks": ""
             }
            },
            "type": "scattergeo"
           }
          ],
          "scattergl": [
           {
            "marker": {
             "colorbar": {
              "outlinewidth": 0,
              "ticks": ""
             }
            },
            "type": "scattergl"
           }
          ],
          "scattermapbox": [
           {
            "marker": {
             "colorbar": {
              "outlinewidth": 0,
              "ticks": ""
             }
            },
            "type": "scattermapbox"
           }
          ],
          "scatterpolar": [
           {
            "marker": {
             "colorbar": {
              "outlinewidth": 0,
              "ticks": ""
             }
            },
            "type": "scatterpolar"
           }
          ],
          "scatterpolargl": [
           {
            "marker": {
             "colorbar": {
              "outlinewidth": 0,
              "ticks": ""
             }
            },
            "type": "scatterpolargl"
           }
          ],
          "scatterternary": [
           {
            "marker": {
             "colorbar": {
              "outlinewidth": 0,
              "ticks": ""
             }
            },
            "type": "scatterternary"
           }
          ],
          "surface": [
           {
            "colorbar": {
             "outlinewidth": 0,
             "ticks": ""
            },
            "colorscale": [
             [
              0,
              "#0d0887"
             ],
             [
              0.1111111111111111,
              "#46039f"
             ],
             [
              0.2222222222222222,
              "#7201a8"
             ],
             [
              0.3333333333333333,
              "#9c179e"
             ],
             [
              0.4444444444444444,
              "#bd3786"
             ],
             [
              0.5555555555555556,
              "#d8576b"
             ],
             [
              0.6666666666666666,
              "#ed7953"
             ],
             [
              0.7777777777777778,
              "#fb9f3a"
             ],
             [
              0.8888888888888888,
              "#fdca26"
             ],
             [
              1,
              "#f0f921"
             ]
            ],
            "type": "surface"
           }
          ],
          "table": [
           {
            "cells": {
             "fill": {
              "color": "#EBF0F8"
             },
             "line": {
              "color": "white"
             }
            },
            "header": {
             "fill": {
              "color": "#C8D4E3"
             },
             "line": {
              "color": "white"
             }
            },
            "type": "table"
           }
          ]
         },
         "layout": {
          "annotationdefaults": {
           "arrowcolor": "#2a3f5f",
           "arrowhead": 0,
           "arrowwidth": 1
          },
          "autotypenumbers": "strict",
          "coloraxis": {
           "colorbar": {
            "outlinewidth": 0,
            "ticks": ""
           }
          },
          "colorscale": {
           "diverging": [
            [
             0,
             "#8e0152"
            ],
            [
             0.1,
             "#c51b7d"
            ],
            [
             0.2,
             "#de77ae"
            ],
            [
             0.3,
             "#f1b6da"
            ],
            [
             0.4,
             "#fde0ef"
            ],
            [
             0.5,
             "#f7f7f7"
            ],
            [
             0.6,
             "#e6f5d0"
            ],
            [
             0.7,
             "#b8e186"
            ],
            [
             0.8,
             "#7fbc41"
            ],
            [
             0.9,
             "#4d9221"
            ],
            [
             1,
             "#276419"
            ]
           ],
           "sequential": [
            [
             0,
             "#0d0887"
            ],
            [
             0.1111111111111111,
             "#46039f"
            ],
            [
             0.2222222222222222,
             "#7201a8"
            ],
            [
             0.3333333333333333,
             "#9c179e"
            ],
            [
             0.4444444444444444,
             "#bd3786"
            ],
            [
             0.5555555555555556,
             "#d8576b"
            ],
            [
             0.6666666666666666,
             "#ed7953"
            ],
            [
             0.7777777777777778,
             "#fb9f3a"
            ],
            [
             0.8888888888888888,
             "#fdca26"
            ],
            [
             1,
             "#f0f921"
            ]
           ],
           "sequentialminus": [
            [
             0,
             "#0d0887"
            ],
            [
             0.1111111111111111,
             "#46039f"
            ],
            [
             0.2222222222222222,
             "#7201a8"
            ],
            [
             0.3333333333333333,
             "#9c179e"
            ],
            [
             0.4444444444444444,
             "#bd3786"
            ],
            [
             0.5555555555555556,
             "#d8576b"
            ],
            [
             0.6666666666666666,
             "#ed7953"
            ],
            [
             0.7777777777777778,
             "#fb9f3a"
            ],
            [
             0.8888888888888888,
             "#fdca26"
            ],
            [
             1,
             "#f0f921"
            ]
           ]
          },
          "colorway": [
           "#636efa",
           "#EF553B",
           "#00cc96",
           "#ab63fa",
           "#FFA15A",
           "#19d3f3",
           "#FF6692",
           "#B6E880",
           "#FF97FF",
           "#FECB52"
          ],
          "font": {
           "color": "#2a3f5f"
          },
          "geo": {
           "bgcolor": "white",
           "lakecolor": "white",
           "landcolor": "#E5ECF6",
           "showlakes": true,
           "showland": true,
           "subunitcolor": "white"
          },
          "hoverlabel": {
           "align": "left"
          },
          "hovermode": "closest",
          "mapbox": {
           "style": "light"
          },
          "paper_bgcolor": "white",
          "plot_bgcolor": "#E5ECF6",
          "polar": {
           "angularaxis": {
            "gridcolor": "white",
            "linecolor": "white",
            "ticks": ""
           },
           "bgcolor": "#E5ECF6",
           "radialaxis": {
            "gridcolor": "white",
            "linecolor": "white",
            "ticks": ""
           }
          },
          "scene": {
           "xaxis": {
            "backgroundcolor": "#E5ECF6",
            "gridcolor": "white",
            "gridwidth": 2,
            "linecolor": "white",
            "showbackground": true,
            "ticks": "",
            "zerolinecolor": "white"
           },
           "yaxis": {
            "backgroundcolor": "#E5ECF6",
            "gridcolor": "white",
            "gridwidth": 2,
            "linecolor": "white",
            "showbackground": true,
            "ticks": "",
            "zerolinecolor": "white"
           },
           "zaxis": {
            "backgroundcolor": "#E5ECF6",
            "gridcolor": "white",
            "gridwidth": 2,
            "linecolor": "white",
            "showbackground": true,
            "ticks": "",
            "zerolinecolor": "white"
           }
          },
          "shapedefaults": {
           "line": {
            "color": "#2a3f5f"
           }
          },
          "ternary": {
           "aaxis": {
            "gridcolor": "white",
            "linecolor": "white",
            "ticks": ""
           },
           "baxis": {
            "gridcolor": "white",
            "linecolor": "white",
            "ticks": ""
           },
           "bgcolor": "#E5ECF6",
           "caxis": {
            "gridcolor": "white",
            "linecolor": "white",
            "ticks": ""
           }
          },
          "title": {
           "x": 0.05
          },
          "xaxis": {
           "automargin": true,
           "gridcolor": "white",
           "linecolor": "white",
           "ticks": "",
           "title": {
            "standoff": 15
           },
           "zerolinecolor": "white",
           "zerolinewidth": 2
          },
          "yaxis": {
           "automargin": true,
           "gridcolor": "white",
           "linecolor": "white",
           "ticks": "",
           "title": {
            "standoff": 15
           },
           "zerolinecolor": "white",
           "zerolinewidth": 2
          }
         }
        },
        "title": {
         "text": "Languages in Train"
        },
        "width": 800,
        "xaxis": {
         "title": {
          "text": "Percentage"
         }
        },
        "yaxis": {
         "autorange": "reversed",
         "title": {
          "text": "Language"
         }
        }
       }
      }
     },
     "metadata": {},
     "output_type": "display_data"
    }
   ],
   "source": [
    "# Calculate the percentage for each category\n",
    "total = len(corpora_train)\n",
    "corpora_train_counts = corpora_train['description_language'].value_counts()\n",
    "corpora_train_percentages = 100 * corpora_train_counts / total\n",
    "\n",
    "# Create the horizontal bar chart\n",
    "fig = go.Figure(data=[\n",
    "    go.Bar(\n",
    "        y=corpora_train_percentages.index,\n",
    "        x=corpora_train_percentages.values,\n",
    "        orientation='h',\n",
    "        marker=dict(color='rgb(121, 157, 196)')\n",
    "    )\n",
    "])\n",
    "\n",
    "# Add percentage labels to each bar\n",
    "for i, percentage in enumerate(corpora_train_percentages.values):\n",
    "    fig.add_annotation(\n",
    "        x=percentage + 2,\n",
    "        y=corpora_train_percentages.index[i],\n",
    "        text=f'{percentage:.1f}%',\n",
    "        showarrow=False,\n",
    "        font=dict(size=12, color='black')\n",
    "    )\n",
    "\n",
    "# Set the layout\n",
    "fig.update_layout(\n",
    "    title='Languages in Train',\n",
    "    xaxis_title='Percentage',\n",
    "    yaxis_title='Language',\n",
    "    yaxis=dict(autorange=\"reversed\"),\n",
    "    height=400,\n",
    "    width=800,\n",
    "    margin=dict(l=100, r=20, t=60, b=20)\n",
    ")\n",
    "\n",
    "# Show the plot\n",
    "fig.show()\n",
    "\n"
   ]
  },
  {
   "attachments": {},
   "cell_type": "markdown",
   "metadata": {},
   "source": [
    "* __Notable existance of several possible languages__"
   ]
  },
  {
   "cell_type": "code",
   "execution_count": 15,
   "metadata": {},
   "outputs": [],
   "source": [
    "# Missing values reporter function\n",
    "def missing_value_reporter(data, threshold=None):\n",
    "\n",
    "    na_count = data.isna().sum() \n",
    "    na_count = na_count[na_count > 0]\n",
    "    na_abs_frq = na_count.values\n",
    "    na_rel_frq = round(na_count/len(data),2)\n",
    "    missings = pd.DataFrame({'Feature': na_count.index, 'Nº of missings': na_abs_frq, '% of missings': na_rel_frq})\n",
    "    missings = missings.sort_values(by = 'Nº of missings', ascending = False)\n",
    "    \n",
    "    if threshold:\n",
    "        missings['Above threshold'] = [True if x > threshold else False for x in missings['% of missings']]\n",
    "        \n",
    "    return missings"
   ]
  },
  {
   "cell_type": "code",
   "execution_count": 16,
   "metadata": {},
   "outputs": [
    {
     "data": {
      "text/html": [
       "<div>\n",
       "<style scoped>\n",
       "    .dataframe tbody tr th:only-of-type {\n",
       "        vertical-align: middle;\n",
       "    }\n",
       "\n",
       "    .dataframe tbody tr th {\n",
       "        vertical-align: top;\n",
       "    }\n",
       "\n",
       "    .dataframe thead th {\n",
       "        text-align: right;\n",
       "    }\n",
       "</style>\n",
       "<table border=\"1\" class=\"dataframe\">\n",
       "  <thead>\n",
       "    <tr style=\"text-align: right;\">\n",
       "      <th></th>\n",
       "      <th>Feature</th>\n",
       "      <th>Nº of missings</th>\n",
       "      <th>% of missings</th>\n",
       "    </tr>\n",
       "  </thead>\n",
       "  <tbody>\n",
       "  </tbody>\n",
       "</table>\n",
       "</div>"
      ],
      "text/plain": [
       "Empty DataFrame\n",
       "Columns: [Feature, Nº of missings, % of missings]\n",
       "Index: []"
      ]
     },
     "execution_count": 16,
     "metadata": {},
     "output_type": "execute_result"
    }
   ],
   "source": [
    "missing_value_reporter(corpora_train)"
   ]
  },
  {
   "cell_type": "code",
   "execution_count": 17,
   "metadata": {},
   "outputs": [
    {
     "data": {
      "text/html": [
       "<div>\n",
       "<style scoped>\n",
       "    .dataframe tbody tr th:only-of-type {\n",
       "        vertical-align: middle;\n",
       "    }\n",
       "\n",
       "    .dataframe tbody tr th {\n",
       "        vertical-align: top;\n",
       "    }\n",
       "\n",
       "    .dataframe thead th {\n",
       "        text-align: right;\n",
       "    }\n",
       "</style>\n",
       "<table border=\"1\" class=\"dataframe\">\n",
       "  <thead>\n",
       "    <tr style=\"text-align: right;\">\n",
       "      <th></th>\n",
       "      <th>Feature</th>\n",
       "      <th>Nº of missings</th>\n",
       "      <th>% of missings</th>\n",
       "    </tr>\n",
       "  </thead>\n",
       "  <tbody>\n",
       "  </tbody>\n",
       "</table>\n",
       "</div>"
      ],
      "text/plain": [
       "Empty DataFrame\n",
       "Columns: [Feature, Nº of missings, % of missings]\n",
       "Index: []"
      ]
     },
     "execution_count": 17,
     "metadata": {},
     "output_type": "execute_result"
    }
   ],
   "source": [
    "missing_value_reporter(corpora_test)"
   ]
  },
  {
   "cell_type": "code",
   "execution_count": 18,
   "metadata": {},
   "outputs": [
    {
     "data": {
      "text/html": [
       "<div>\n",
       "<style scoped>\n",
       "    .dataframe tbody tr th:only-of-type {\n",
       "        vertical-align: middle;\n",
       "    }\n",
       "\n",
       "    .dataframe tbody tr th {\n",
       "        vertical-align: top;\n",
       "    }\n",
       "\n",
       "    .dataframe thead th {\n",
       "        text-align: right;\n",
       "    }\n",
       "</style>\n",
       "<table border=\"1\" class=\"dataframe\">\n",
       "  <thead>\n",
       "    <tr style=\"text-align: right;\">\n",
       "      <th></th>\n",
       "      <th>Feature</th>\n",
       "      <th>Nº of missings</th>\n",
       "      <th>% of missings</th>\n",
       "    </tr>\n",
       "  </thead>\n",
       "  <tbody>\n",
       "    <tr>\n",
       "      <th>comments</th>\n",
       "      <td>comments</td>\n",
       "      <td>4</td>\n",
       "      <td>0.0</td>\n",
       "    </tr>\n",
       "  </tbody>\n",
       "</table>\n",
       "</div>"
      ],
      "text/plain": [
       "           Feature  Nº of missings  % of missings\n",
       "comments  comments               4            0.0"
      ]
     },
     "execution_count": 18,
     "metadata": {},
     "output_type": "execute_result"
    }
   ],
   "source": [
    "missing_value_reporter(corpora_train_review)"
   ]
  },
  {
   "cell_type": "code",
   "execution_count": 19,
   "metadata": {},
   "outputs": [
    {
     "data": {
      "text/html": [
       "<div>\n",
       "<style scoped>\n",
       "    .dataframe tbody tr th:only-of-type {\n",
       "        vertical-align: middle;\n",
       "    }\n",
       "\n",
       "    .dataframe tbody tr th {\n",
       "        vertical-align: top;\n",
       "    }\n",
       "\n",
       "    .dataframe thead th {\n",
       "        text-align: right;\n",
       "    }\n",
       "</style>\n",
       "<table border=\"1\" class=\"dataframe\">\n",
       "  <thead>\n",
       "    <tr style=\"text-align: right;\">\n",
       "      <th></th>\n",
       "      <th>Feature</th>\n",
       "      <th>Nº of missings</th>\n",
       "      <th>% of missings</th>\n",
       "    </tr>\n",
       "  </thead>\n",
       "  <tbody>\n",
       "  </tbody>\n",
       "</table>\n",
       "</div>"
      ],
      "text/plain": [
       "Empty DataFrame\n",
       "Columns: [Feature, Nº of missings, % of missings]\n",
       "Index: []"
      ]
     },
     "execution_count": 19,
     "metadata": {},
     "output_type": "execute_result"
    }
   ],
   "source": [
    "missing_value_reporter(corpora_test_review)"
   ]
  },
  {
   "cell_type": "code",
   "execution_count": 20,
   "metadata": {},
   "outputs": [],
   "source": [
    "# Drop missing values\n",
    "corpora_train_review = corpora_train_review.dropna()"
   ]
  },
  {
   "attachments": {},
   "cell_type": "markdown",
   "metadata": {},
   "source": [
    "* __Checked the existance of missing values only in file `\"corpora_train_review\"`, once are only 4 line is full data this ones were dropped.__"
   ]
  },
  {
   "attachments": {},
   "cell_type": "markdown",
   "metadata": {},
   "source": [
    "__After data analysis can be noted that:__\n",
    "\n",
    "> File `corpora_train_review`:\n",
    "__Features__:\n",
    "\n",
    "1. __[index]__ - (Int) Index correspondency with Index in file `corpora_train`\n",
    "2. __[comments]__ - (Str) Each comment per line\n",
    "\n",
    "\n",
    "> File `corpora_test_review`:\n",
    "__Features__:\n",
    "\n",
    "1. __[index]__ - (Int) Index correspondency with Index in file `corpora_test`\n",
    "2. __[comments]__ - (Str) Each comment per line\n",
    "\n",
    "\n",
    "> File `corpora_train`:\n",
    "__Features__:\n",
    "\n",
    "1. __[index]__ - (Int) Index correspondency\n",
    "2. __[description]__ - (Str) Description of the asset\n",
    "3. __[host_about]__ - (Str) Description of the asset host\n",
    "4. __[unlisted]__ - (Bool) Is asset unlisted or not \n",
    "\n",
    "> File `corpora_test`:\n",
    "__Features__:\n",
    "\n",
    "1. __[index]__ - (Int) Index correspondency\n",
    "2. __[description]__ - (Str) Description of the asset\n",
    "3. __[host_about]__ - (Str) Description of the asset host\n",
    "\n",
    "\n",
    "Is also noted that train data is not balanced, model will be train with ~28% of unlisted individuals.\n",
    "\n",
    "Our data contains several languages as well were the majority is 81,6% of English although there are more.\n",
    "\n",
    "Is notable the existence of 4 missing values that were dropped due the residual impact."
   ]
  },
  {
   "attachments": {},
   "cell_type": "markdown",
   "metadata": {},
   "source": [
    "## 2. Data Preprocessing \n",
    "* explanation of the different preprocessing methods developed (accounts for 25% of criteria 4.Erro! A origem da referência não foi encontrada.).\n",
    "\n",
    "__Data Cleaning:__\n",
    "\n",
    "* __Lowercase text__\n",
    "> Converting everything to lowercase reducing vocabulary size\n",
    "\n",
    "* __Remove Numerical Data and Punctuation__\n",
    "> Normalize Dates and Numbers\n",
    "\n",
    "* __Remove Stop Words__\n",
    "> Removing words that are not very informative. Less tokens same meaning.\n",
    "\n",
    "* __Lemmatize__\n",
    "> Turning words into their root word\n",
    "\n",
    "* __Stemmer__\n",
    "> Remove last few characters to obtain the shorter form of each word, this one is setted to False in order to not perform.\n",
    "\n",
    "***"
   ]
  },
  {
   "cell_type": "code",
   "execution_count": 21,
   "metadata": {},
   "outputs": [
    {
     "name": "stderr",
     "output_type": "stream",
     "text": [
      "  0%|          | 0/12496 [00:00<?, ?it/s]"
     ]
    },
    {
     "name": "stderr",
     "output_type": "stream",
     "text": [
      "100%|██████████| 12496/12496 [00:17<00:00, 697.76it/s]\n"
     ]
    }
   ],
   "source": [
    "# Data Pre Processing\n",
    "stop = stopwords.words('english')\n",
    "\n",
    "def pre_process(text_list, lemmatize, stemmer):\n",
    "    \n",
    "    updates = []\n",
    "    \n",
    "    for j in tqdm(text_list):\n",
    "        \n",
    "        text = j\n",
    "        \n",
    "        # Lowercase text\n",
    "        text = text.lower()\n",
    "        \n",
    "        # Remove tags\n",
    "        text = re.sub(\"&lt;/?.*?&gt;\", \" &lt;&gt; \", text)\n",
    "        \n",
    "        # Remove special characters and digits\n",
    "        text = re.sub(\"[^a-zA-Z]\", \" \", text)\n",
    "        text = re.sub(\"(\\\\d|\\\\W)+\", \" \", text)\n",
    "        text = re.sub('[0-9]+', '', text)\n",
    "        text = re.sub(r'http\\S+', '',text)\n",
    "        \n",
    "        # Remove stopwords\n",
    "        text = \" \".join([word for word in text.split() if word not in stop])\n",
    "        \n",
    "        # Lemmatize\n",
    "        if lemmatize:\n",
    "            lemma = WordNetLemmatizer()\n",
    "            text = \" \".join(lemma.lemmatize(word) for word in text.split())\n",
    "        \n",
    "        # Stemming\n",
    "        if stemmer:\n",
    "            stemmer = SnowballStemmer('english')\n",
    "            text = \" \".join(stemmer.stem(word) for word in text.split())\n",
    "            \n",
    "        updates.append(text)\n",
    "        \n",
    "    return updates\n",
    "\n",
    "corpora_train['description_clean'] = pre_process(corpora_train['description'], lemmatize=True, stemmer=False)\n"
   ]
  },
  {
   "cell_type": "code",
   "execution_count": 22,
   "metadata": {},
   "outputs": [
    {
     "name": "stderr",
     "output_type": "stream",
     "text": [
      "  1%|▏         | 161/12496 [00:00<00:07, 1577.24it/s]"
     ]
    },
    {
     "name": "stderr",
     "output_type": "stream",
     "text": [
      "100%|██████████| 12496/12496 [00:08<00:00, 1497.41it/s]\n"
     ]
    }
   ],
   "source": [
    "corpora_train['host_about_clean'] = pre_process(corpora_train['host_about'], lemmatize=True, stemmer=False)"
   ]
  },
  {
   "cell_type": "code",
   "execution_count": 23,
   "metadata": {},
   "outputs": [
    {
     "name": "stderr",
     "output_type": "stream",
     "text": [
      "  5%|▌         | 74/1389 [00:00<00:01, 708.95it/s]"
     ]
    },
    {
     "name": "stderr",
     "output_type": "stream",
     "text": [
      "100%|██████████| 1389/1389 [00:01<00:00, 768.60it/s]\n"
     ]
    }
   ],
   "source": [
    "corpora_test['description_clean'] = pre_process(corpora_test['description'], lemmatize=True, stemmer=False)"
   ]
  },
  {
   "cell_type": "code",
   "execution_count": 24,
   "metadata": {},
   "outputs": [
    {
     "name": "stderr",
     "output_type": "stream",
     "text": [
      "  9%|▉         | 130/1389 [00:00<00:01, 1234.50it/s]"
     ]
    },
    {
     "name": "stderr",
     "output_type": "stream",
     "text": [
      "100%|██████████| 1389/1389 [00:01<00:00, 1372.21it/s]\n"
     ]
    }
   ],
   "source": [
    "corpora_test['host_about_clean'] = pre_process(corpora_test['host_about'], lemmatize=True, stemmer=False)"
   ]
  },
  {
   "cell_type": "code",
   "execution_count": 25,
   "metadata": {},
   "outputs": [
    {
     "name": "stderr",
     "output_type": "stream",
     "text": [
      "  0%|          | 188/80877 [00:00<00:43, 1872.24it/s]"
     ]
    },
    {
     "name": "stderr",
     "output_type": "stream",
     "text": [
      "100%|██████████| 80877/80877 [00:35<00:00, 2287.12it/s]\n"
     ]
    }
   ],
   "source": [
    "corpora_test_review['comments_clean'] = pre_process(corpora_test_review['comments'], lemmatize=True, stemmer=False)"
   ]
  },
  {
   "cell_type": "code",
   "execution_count": 26,
   "metadata": {},
   "outputs": [
    {
     "data": {
      "text/plain": [
       "'shared mixed room hostel shared bathroom br located right across street subway station parque min walk marque de pombal square br br b space b br offer woman room mixed room double room twin room single room family room kitchen open guest lounge guest gather cable tv room come standard equipped comfortable bed linen blanket reading lamp side table free wi fi access guest curfew access late check sleep late br br b guest access b br room key card access'"
      ]
     },
     "execution_count": 26,
     "metadata": {},
     "output_type": "execute_result"
    }
   ],
   "source": [
    "corpora_train.description_clean[0]"
   ]
  },
  {
   "cell_type": "code",
   "execution_count": 131,
   "metadata": {},
   "outputs": [],
   "source": [
    "# Retorn error probably due the size or strange word\n",
    "# corpora_train_review['comments_clean'] = pre_process(corpora_train_review['comments'], lemmatize=True, stemmer=False)\n"
   ]
  },
  {
   "attachments": {},
   "cell_type": "markdown",
   "metadata": {},
   "source": [
    "1. Were created new features according to each column in each file.\n",
    "\n",
    "2. New Features regard a sufix in their name as __`\"_clean\"`__.\n",
    "\n",
    "3. The new features regard the new data already __Tokenized__ (process of splitting a text into individual words or tokens), in __Lowercase__ (no Uppercase Letters), __without special characters, digits, tags and stopwords__ and __Lemmatized__ (word in their root word). "
   ]
  },
  {
   "attachments": {},
   "cell_type": "markdown",
   "metadata": {},
   "source": [
    "## 3. Feature Engineering\n",
    "* description of the methods implemented (accounts for 25% of\n",
    "criteria 4.3)\n",
    "\n",
    "* The oject in study will be file __`\"corpora_train\"`__ which is the one that will be used for model train\n",
    "\n",
    "* Feature Importance \n",
    "    > Term Frequency \n",
    "    \n",
    "    TF = (Number of times the word appears in the document) / (Total number of words in the document)\n",
    "\n",
    "    > Inverse Doc. Frequency\n",
    "\n",
    "    IDF = log((Total number of documents in the corpus) / (Number of documents containing the word))"
   ]
  },
  {
   "cell_type": "code",
   "execution_count": 132,
   "metadata": {},
   "outputs": [],
   "source": [
    "# #Translate to English\n",
    "# from googletrans import Translator\n",
    "# def translate_text(lang,text):\n",
    "#     translator= Translator()\n",
    "#     trans_text = translator.translate(text, src=lang).text\n",
    "#     return trans_text\n",
    "\n",
    "# corpora_train['translated_text']=corpora_train.apply(lambda x: x.description_clean if x.text_lang == 'en' else translate_text(x.text_lang, x.description_clean), axis=1)\n",
    "# corpora_train.translated_text = corpora_train.translated_text.str.lower()"
   ]
  },
  {
   "attachments": {},
   "cell_type": "markdown",
   "metadata": {},
   "source": [
    "### __3.1 TFIDF__\n",
    "\n",
    "* Vectorization of information, in x_train and x_test to train the models"
   ]
  },
  {
   "cell_type": "code",
   "execution_count": 27,
   "metadata": {},
   "outputs": [
    {
     "name": "stdout",
     "output_type": "stream",
     "text": [
      "train: 80% - 9996 Individuals \n",
      "test: 20% - 2500 Individuals\n"
     ]
    }
   ],
   "source": [
    "# Splitting data only using Train data due Test data dont regard the label to check the model performance, \n",
    "# due that model test will be performed in train subset \n",
    "X = corpora_train['description_clean']\n",
    "y = corpora_train['unlisted']\n",
    "\n",
    "# Setting random states seedz\n",
    "seed = 0\n",
    "\n",
    "# Splitrin the data, leaving 20% in the hold out sample\n",
    "X_train, X_test, y_train, y_test = train_test_split(\n",
    "                                                    X,\n",
    "                                                    y,\n",
    "                                                    random_state = seed,\n",
    "                                                    shuffle = True,\n",
    "                                                    stratify = y,\n",
    "                                                    test_size = .2,\n",
    "                                                )\n",
    "\n",
    "print('train: {}% - {} Individuals \\ntest: {}% - {} Individuals'.format(\n",
    "                                                                round(len(y_train)/len(y)*100),\n",
    "                                                                len(y_train),\n",
    "                                                                round(len(y_test)/len(y)*100),\n",
    "                                                                len(y_test)\n",
    "                                                                ))\n"
   ]
  },
  {
   "cell_type": "code",
   "execution_count": 28,
   "metadata": {},
   "outputs": [],
   "source": [
    "tfidf = TfidfVectorizer(\n",
    "                        sublinear_tf=True,\n",
    "                        analyzer=\"word\",\n",
    "                        ngram_range=(1,2),\n",
    "                        max_features=5000, \n",
    "                        stop_words=\"english\"\n",
    "                        )\n",
    "\n",
    "X_train_tfidf = tfidf.fit_transform(X_train).toarray()\n",
    "X_test_tfidf = tfidf.transform(X_test).toarray()"
   ]
  },
  {
   "attachments": {},
   "cell_type": "markdown",
   "metadata": {},
   "source": [
    "## 4. Classification Models\n",
    "* description of the models implemented (accounts for 25% of criteria 4.4)"
   ]
  },
  {
   "cell_type": "code",
   "execution_count": 63,
   "metadata": {},
   "outputs": [],
   "source": [
    "def model_base():\n",
    "\n",
    "    # Setting models seed for reproducibility\n",
    "    seed = 0\n",
    "\n",
    "    # Creating base classifiers' instance\n",
    "    # tree based  & ensemble boosting models (better performance with raw data)\n",
    "    #DT_model = DecisionTreeClassifier(random_state=seed).fit(X_train_tfidf, y_train) # Decision Tree\n",
    "    #RF_model = RandomForestClassifier(random_state=seed).fit(X_train_tfidf, y_train) # Random Forest\n",
    "    #ET_model = ExtraTreesClassifier(random_state=seed).fit(X_train_tfidf, y_train) # Extra Tree\n",
    "    #HGB_model = HistGradientBoostingClassifier(random_state=seed).fit(X_train_tfidf, y_train)# Histogram-based Gradient Boosting\n",
    "    #ADA_model =  AdaBoostClassifier(random_state = seed).fit(X_train_tfidf, y_train) # Adaptative Boosting\n",
    "    #GB_model = GradientBoostingClassifier(random_state=seed).fit(X_train_tfidf, y_train) # Gradient Boosting\n",
    "    #XGB_model = XGBClassifier(random_state=seed).fit(X_train_tfidf, y_train) # Extreme Gradient Boosting\n",
    "    LR_model = LogisticRegression(random_state=seed).fit(X_train_tfidf, y_train) # Logistic Regression\n",
    "    KNN_model = KNeighborsClassifier().fit(X_train_tfidf, y_train) # K-Nearest Neighbors\n",
    "    #B_model = BaggingClassifier(random_state=seed).fit(X_train_tfidf, y_train) # Bagging Classifier\n",
    "    #SVC_model = SVC(random_state=seed).fit(X_train_tfidf, y_train) # Support Vector Classification\n",
    "    Gaussian_model = GaussianNB().fit(X_train_tfidf, y_train) # Gaussian Naive Bayes\n",
    "    NN_model = MLPClassifier(random_state=seed).fit(X_train_tfidf, y_train) # Neural Network\n",
    "    #SGD_model = SGDClassifier(random_state=seed).fit(X_train_tfidf, y_train) #  Stochastic Gradient Descent\n",
    "\n",
    "    # Creating estimators list\n",
    "    estimators = [\n",
    "                #('DT', DecisionTreeClassifier()),\n",
    "                #('RF', RandomForestClassifier()),\n",
    "                #('ET', ExtraTreesClassifier()), \n",
    "                #('HGB', HistGradientBoostingClassifier()),\n",
    "                #('ADA', AdaBoostClassifier()),\n",
    "                #('GB', GradientBoostingClassifier()),\n",
    "                #('XGB', XGBClassifier()),\n",
    "                ('LR', LogisticRegression()),\n",
    "                ('KNN', KNeighborsClassifier()),\n",
    "                #('Bagging', BaggingClassifier()), \n",
    "                #('SVM', SVC()),\n",
    "                ('Gaussian', GaussianNB()),\n",
    "                ('NN', MLPClassifier()),\n",
    "                #('SGD', SGDClassifier())\n",
    "                ]\n",
    "\n",
    "    # Creating base ensemble models instances\n",
    "    #S_model = StackingClassifier(estimators).fit(X_train_tfidf, y_train) #  Stacking\n",
    "    #V_model = VotingClassifier(estimators).fit(X_train_tfidf, y_train) #  Voting\n",
    "\n",
    "    # all base models list\n",
    "    models = [\n",
    "        #DT_model,\n",
    "        #RF_model,\n",
    "        #ET_model,\n",
    "        #HGB_model,\n",
    "        #ADA_model,\n",
    "        #GB_model,\n",
    "        #XGB_model,\n",
    "        LR_model,\n",
    "        KNN_model,\n",
    "        #B_model,\n",
    "        #SVC_model,\n",
    "        Gaussian_model,\n",
    "        NN_model,\n",
    "        #SGD_model,\n",
    "        #S_model ,\n",
    "        #V_model\n",
    "        ]\n",
    "\n",
    "    # creating list of models names\n",
    "    model_str = [str(model) for model in models] # getting model raw names\n",
    "    # formating names\n",
    "    model_str = [model.split('(', 1)[0] for model in model_str]\n",
    "    model_name = [' '.join(re.findall('[A-Z][^A-Z]*', model)) for model in model_str]\n",
    "\n",
    "    # creating dataframe for results\n",
    "    df = pd.DataFrame(columns = ['Model', 'F1-Score', 'Accuracy', 'Precision', 'Recall', 'AUC'])\n",
    "        \n",
    "    for model, name in zip(models, model_name):\n",
    "        instance = model  # instance model\n",
    "        y_pred = instance.predict(X_test_tfidf)  # raw data prediction\n",
    "\n",
    "        # benchmark metrics\n",
    "        f1 = metrics.f1_score(y_test, y_pred, average='micro')\n",
    "        accuracy = metrics.accuracy_score(y_test, y_pred)\n",
    "        precision = metrics.precision_score(y_test, y_pred, average='micro')\n",
    "        recall = metrics.recall_score(y_test, y_pred, average='micro')\n",
    "        roc = metrics.roc_auc_score(y_test, y_pred)\n",
    "\n",
    "        # adding row with model name and respective metrics\n",
    "        df.loc[name] = [name, f1, accuracy, precision, recall, roc]\n",
    "\n",
    "    # sorting by the F1-score\n",
    "    df.sort_values(by='F1-Score', ascending=False, inplace=True)\n",
    "    # setting Model names as index\n",
    "    df.set_index('Model', inplace=True)\n",
    "\n",
    "    return df"
   ]
  },
  {
   "cell_type": "code",
   "execution_count": 64,
   "metadata": {},
   "outputs": [
    {
     "data": {
      "text/html": [
       "<style type=\"text/css\">\n",
       "</style>\n",
       "<table id=\"T_4eb74\">\n",
       "  <thead>\n",
       "    <tr>\n",
       "      <th class=\"blank level0\" >&nbsp;</th>\n",
       "      <th id=\"T_4eb74_level0_col0\" class=\"col_heading level0 col0\" >F1-Score</th>\n",
       "      <th id=\"T_4eb74_level0_col1\" class=\"col_heading level0 col1\" >Accuracy</th>\n",
       "      <th id=\"T_4eb74_level0_col2\" class=\"col_heading level0 col2\" >Precision</th>\n",
       "      <th id=\"T_4eb74_level0_col3\" class=\"col_heading level0 col3\" >Recall</th>\n",
       "      <th id=\"T_4eb74_level0_col4\" class=\"col_heading level0 col4\" >AUC</th>\n",
       "    </tr>\n",
       "    <tr>\n",
       "      <th class=\"index_name level0\" >Model</th>\n",
       "      <th class=\"blank col0\" >&nbsp;</th>\n",
       "      <th class=\"blank col1\" >&nbsp;</th>\n",
       "      <th class=\"blank col2\" >&nbsp;</th>\n",
       "      <th class=\"blank col3\" >&nbsp;</th>\n",
       "      <th class=\"blank col4\" >&nbsp;</th>\n",
       "    </tr>\n",
       "  </thead>\n",
       "  <tbody>\n",
       "    <tr>\n",
       "      <th id=\"T_4eb74_level0_row0\" class=\"row_heading level0 row0\" >Logistic Regression</th>\n",
       "      <td id=\"T_4eb74_row0_col0\" class=\"data row0 col0\" >0.759600</td>\n",
       "      <td id=\"T_4eb74_row0_col1\" class=\"data row0 col1\" >0.759600</td>\n",
       "      <td id=\"T_4eb74_row0_col2\" class=\"data row0 col2\" >0.759600</td>\n",
       "      <td id=\"T_4eb74_row0_col3\" class=\"data row0 col3\" >0.759600</td>\n",
       "      <td id=\"T_4eb74_row0_col4\" class=\"data row0 col4\" >0.595290</td>\n",
       "    </tr>\n",
       "    <tr>\n",
       "      <th id=\"T_4eb74_level0_row1\" class=\"row_heading level0 row1\" >K Neighbors Classifier</th>\n",
       "      <td id=\"T_4eb74_row1_col0\" class=\"data row1 col0\" >0.757600</td>\n",
       "      <td id=\"T_4eb74_row1_col1\" class=\"data row1 col1\" >0.757600</td>\n",
       "      <td id=\"T_4eb74_row1_col2\" class=\"data row1 col2\" >0.757600</td>\n",
       "      <td id=\"T_4eb74_row1_col3\" class=\"data row1 col3\" >0.757600</td>\n",
       "      <td id=\"T_4eb74_row1_col4\" class=\"data row1 col4\" >0.658402</td>\n",
       "    </tr>\n",
       "    <tr>\n",
       "      <th id=\"T_4eb74_level0_row2\" class=\"row_heading level0 row2\" >M L P Classifier</th>\n",
       "      <td id=\"T_4eb74_row2_col0\" class=\"data row2 col0\" >0.755600</td>\n",
       "      <td id=\"T_4eb74_row2_col1\" class=\"data row2 col1\" >0.755600</td>\n",
       "      <td id=\"T_4eb74_row2_col2\" class=\"data row2 col2\" >0.755600</td>\n",
       "      <td id=\"T_4eb74_row2_col3\" class=\"data row2 col3\" >0.755600</td>\n",
       "      <td id=\"T_4eb74_row2_col4\" class=\"data row2 col4\" >0.677035</td>\n",
       "    </tr>\n",
       "    <tr>\n",
       "      <th id=\"T_4eb74_level0_row3\" class=\"row_heading level0 row3\" >Gaussian N B</th>\n",
       "      <td id=\"T_4eb74_row3_col0\" class=\"data row3 col0\" >0.710800</td>\n",
       "      <td id=\"T_4eb74_row3_col1\" class=\"data row3 col1\" >0.710800</td>\n",
       "      <td id=\"T_4eb74_row3_col2\" class=\"data row3 col2\" >0.710800</td>\n",
       "      <td id=\"T_4eb74_row3_col3\" class=\"data row3 col3\" >0.710800</td>\n",
       "      <td id=\"T_4eb74_row3_col4\" class=\"data row3 col4\" >0.654940</td>\n",
       "    </tr>\n",
       "  </tbody>\n",
       "</table>\n"
      ],
      "text/plain": [
       "<pandas.io.formats.style.Styler at 0x23169e3dc10>"
      ]
     },
     "execution_count": 64,
     "metadata": {},
     "output_type": "execute_result"
    }
   ],
   "source": [
    "# checking best base models          \n",
    "base_model = model_base()\n",
    "\n",
    "base_model.style"
   ]
  },
  {
   "cell_type": "code",
   "execution_count": null,
   "metadata": {},
   "outputs": [],
   "source": []
  },
  {
   "cell_type": "code",
   "execution_count": null,
   "metadata": {},
   "outputs": [],
   "source": []
  },
  {
   "cell_type": "code",
   "execution_count": null,
   "metadata": {},
   "outputs": [],
   "source": []
  },
  {
   "cell_type": "code",
   "execution_count": null,
   "metadata": {},
   "outputs": [],
   "source": []
  },
  {
   "attachments": {},
   "cell_type": "markdown",
   "metadata": {},
   "source": [
    "# WIP -------------------------------------------"
   ]
  },
  {
   "cell_type": "code",
   "execution_count": 86,
   "metadata": {},
   "outputs": [
    {
     "data": {
      "text/plain": [
       "array([[9015,  136],\n",
       "       [  18, 3327]], dtype=int64)"
      ]
     },
     "execution_count": 86,
     "metadata": {},
     "output_type": "execute_result"
    }
   ],
   "source": [
    "confusion_matrix(y_pred_word, y)"
   ]
  },
  {
   "cell_type": "code",
   "execution_count": 88,
   "metadata": {},
   "outputs": [
    {
     "name": "stderr",
     "output_type": "stream",
     "text": [
      "C:\\Users\\joaom\\AppData\\Local\\Temp\\ipykernel_21808\\902166482.py:42: UserWarning:\n",
      "\n",
      "Attempting to set identical low and high ylims makes transformation singular; automatically expanding.\n",
      "\n"
     ]
    },
    {
     "data": {
      "image/png": "[encoded data removed]",
      "text/plain": [
       "<Figure size 640x480 with 2 Axes>"
      ]
     },
     "metadata": {},
     "output_type": "display_data"
    }
   ],
   "source": [
    "import numpy as np\n",
    "import matplotlib.pyplot as plt\n",
    "\n",
    "def plot_cm(confusion_matrix : np.array, \n",
    "            classnames : list):\n",
    "    \"\"\"\n",
    "    Function that creates a confusion matrix plot using the Wikipedia convention for the axis. \n",
    "    :param confusion_matrix: confusion matrix that will be plotted\n",
    "    :param classnames: labels of the classes\n",
    "    \n",
    "    Returns:\n",
    "        - Plot of the Confusion Matrix\n",
    "    \"\"\"\n",
    "    \n",
    "    confusionmatrix = confusion_matrix\n",
    "    class_names = classnames             \n",
    "\n",
    "    fig, ax = plt.subplots()\n",
    "    im = plt.imshow(confusionmatrix, cmap=plt.cm.cividis)\n",
    "    plt.colorbar()\n",
    "\n",
    "    # We want to show all ticks...\n",
    "    ax.set_xticks(np.arange(len(class_names)))\n",
    "    ax.set_yticks(np.arange(len(class_names)))\n",
    "    # ... and label them with the respective list entries\n",
    "    ax.set_xticklabels(class_names)\n",
    "    ax.set_yticklabels(class_names)\n",
    "\n",
    "    # Rotate the tick labels and set their alignment.\n",
    "    plt.setp(ax.get_xticklabels(), rotation=45, ha=\"right\",\n",
    "            rotation_mode=\"anchor\")\n",
    "\n",
    "    # Loop over data dimensions and create text annotations.\n",
    "    for i in range(len(class_names)):\n",
    "        for j in range(len(class_names)):\n",
    "            text = ax.text(j, i, confusionmatrix[i, j],\n",
    "                        ha=\"center\", va=\"center\", color=\"w\")\n",
    "\n",
    "    ax.set_title(\"Confusion Matrix\")\n",
    "    plt.xlabel('Targets')\n",
    "    plt.ylabel('Predictions')\n",
    "    plt.ylim(top=len(class_names)-0.5)  # adjust the top leaving bottom unchanged\n",
    "    plt.ylim(bottom=-0.5)  # adjust the bottom leaving top unchanged\n",
    "    return plt.show()\n",
    "\n",
    "plot_cm(confusion_matrix(y_pred_word, y), labels.keys())"
   ]
  },
  {
   "cell_type": "code",
   "execution_count": 90,
   "metadata": {},
   "outputs": [
    {
     "name": "stdout",
     "output_type": "stream",
     "text": [
      "              precision    recall  f1-score   support\n",
      "\n",
      "    Unlisted       0.99      0.99      0.99      9011\n",
      " Keep Listed       0.98      0.97      0.98      3485\n",
      "\n",
      "    accuracy                           0.99     12496\n",
      "   macro avg       0.98      0.98      0.98     12496\n",
      "weighted avg       0.99      0.99      0.99     12496\n",
      "\n"
     ]
    },
    {
     "data": {
      "text/plain": [
       "array([[8939,   72],\n",
       "       [  94, 3391]], dtype=int64)"
      ]
     },
     "execution_count": 90,
     "metadata": {},
     "output_type": "execute_result"
    }
   ],
   "source": [
    "# N Gram\n",
    "ngram_tfidf = TfidfVectorizer(max_df=0.8, ngram_range=(1, 3))\n",
    "X_ngram = ngram_tfidf.fit_transform(corpora_train[\"description_clean\"])\n",
    "\n",
    "## N Gram Classifier\n",
    "knn_ngram = KNeighborsClassifier(n_neighbors = 10, metric = 'cosine', weights = 'distance')\n",
    "knn_ngram.fit(X_ngram,y)\n",
    "\n",
    "X_test_ngram = ngram_tfidf.transform(corpora_train[\"description_clean\"])\n",
    "y_pred_ngram = knn_ngram.predict(X_test_ngram)\n",
    "\n",
    "print(classification_report(y_pred_ngram, y, target_names = labels.keys()))\n",
    "\n",
    "confusion_matrix(y_pred_ngram, y)"
   ]
  },
  {
   "cell_type": "code",
   "execution_count": 91,
   "metadata": {},
   "outputs": [
    {
     "name": "stderr",
     "output_type": "stream",
     "text": [
      "C:\\Users\\joaom\\AppData\\Local\\Temp\\ipykernel_21808\\902166482.py:42: UserWarning:\n",
      "\n",
      "Attempting to set identical low and high ylims makes transformation singular; automatically expanding.\n",
      "\n"
     ]
    },
    {
     "data": {
      "image/png": "[encoded data removed]",
      "text/plain": [
       "<Figure size 640x480 with 2 Axes>"
      ]
     },
     "metadata": {},
     "output_type": "display_data"
    }
   ],
   "source": [
    "plot_cm(confusion_matrix(y_pred_ngram, y), labels.keys())"
   ]
  },
  {
   "cell_type": "code",
   "execution_count": 74,
   "metadata": {},
   "outputs": [],
   "source": []
  },
  {
   "cell_type": "code",
   "execution_count": 75,
   "metadata": {},
   "outputs": [],
   "source": []
  },
  {
   "cell_type": "code",
   "execution_count": null,
   "metadata": {},
   "outputs": [],
   "source": []
  }
 ],
 "metadata": {
  "kernelspec": {
   "display_name": "Python 3",
   "language": "python",
   "name": "python3"
  },
  "language_info": {
   "codemirror_mode": {
    "name": "ipython",
    "version": 3
   },
   "file_extension": ".py",
   "mimetype": "text/x-python",
   "name": "python",
   "nbconvert_exporter": "python",
   "pygments_lexer": "ipython3",
   "version": "3.11.3"
  },
  "orig_nbformat": 4
 },
 "nbformat": 4,
 "nbformat_minor": 2
}
