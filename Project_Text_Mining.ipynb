{
 "cells": [
  {
   "attachments": {},
   "cell_type": "markdown",
   "metadata": {},
   "source": [
    "# __Predicting Airbnb Unlisting Project__ <img align='right' width='150' height='150' src='https://maiseducativa.com/wp-content/uploads/2015/02/Logo_Nova-IMS.jpg'>\n",
    "\n",
    "## <font color='SeaGreen'>__Text Mining__</font><br>\n",
    "\n",
    "> __Group O__ composed by:\n",
    ">> __Daniel Franco, nº20210719__ <p>\n",
    ">> __João Malho, nº20220696__ <p>\n",
    "\n",
    "***\n",
    "\n",
    "## 🧬 __Introduction__\n",
    "\n",
    "__Your solution should present the following points:__\n",
    "\n",
    "__1. Data Exploration (1.5 points):__\n",
    "\n",
    "Here you should analyze the corpora and provide some conclusions and visual information (bar charts, word clouds, etc.) that contextualize the data.\n",
    "\n",
    "__2. Data Preprocessing (2 points):__\n",
    "\n",
    "You must apply a method to split your training corpus into train/validation sets to evaluate the performance of your model (you can also resort to KFold cross validation, or other methods). Moreover, you must correctly implement and experiment at least four (4) of the data preprocessing techniques shown in class (stop words, regular expressions, lemmatization, stemming, etc.).\n",
    "\n",
    "__3. Feature Engineering (5 points):__\n",
    "\n",
    "You must correctly implement and experiment with two (2) of the feature engineering techniques seen in class (TF-IDF, GloVe embeddings, etc.).\n",
    "\n",
    "__4. Classification Models (4.5 points):__\n",
    "\n",
    "You must correctly implement and test three (3) of the classification algorithms seen in class (KNN, LR, MLP, LSTM, etc.). \n",
    "\n",
    "__5. Evaluation (1.5 points):__\n",
    "\n",
    "You must evaluate your models resorting, at least, to Recall, Precision, Accuracy and F1-Score.\n",
    "Moreover, the development of extra work (more techniques than the minimum required in the previous points and/or techniques not shown in class) is highly recommended and will account for a maximum of 4.5 points divided as follows:\n",
    "    \n",
    ">__1. Data Preprocessing__ – 0.25 points for each extra method (unseen in class) used (maximum of 2 extra methods).\n",
    "\n",
    ">__2. Feature Engineering__ – 1 point for each extra method using Transformed-based embeddings (maximum of 2 extra methods)\n",
    "\n",
    ">__3. Classification Models__ – 1 point for each extra\n",
    "\n",
    "\n",
    "## 📖 __Glossary__\n",
    "\n",
    "__The data is divided in following sets:__\n",
    "\n",
    "* __Train (train.xlsx) (12,496 lines):__\n",
    "\n",
    "> Contains the Airbnb and host descriptions (“description” and “host_about” columns), as well as the information regarding the property listing status (“unlisted” column). A property is considered unlisted (1) if it got removed from the quarterly Airbnb list and it is considered listed (1) if it remains on that same list.\n",
    "\n",
    "* __Train Reviews (train_reviews.xlsx) (72,1402):__ \n",
    "\n",
    "> This file has all the guests’ comments made to each Airbnb property. Note that there can be more than one comment per property, not all properties have comments, and comments can appear in many languages!\n",
    "\n",
    "* __Test (test.xlsx) (1,389 lines):__\n",
    "\n",
    "> The structure of this dataset is the same as the train set, except that it does not contain the “unlisted” column. The teaching team is keeping this information secret! You are expected to provide the predicted status (0 or 1) for each Airbnb in this set. Once the projects are delivered, we will compare your predictions with the actual (true) labels.\n",
    "\n",
    "* __Test Reviews (test_reviews.xlsx) (80,877):__ \n",
    "\n",
    "> The structure of this dataset is the same as the train reviews set, but the comments correspond to the properties present on the test set\n",
    "\n",
    "***\n",
    "\n",
    "## 📈 __Methodology__\n",
    "\n",
    "\n",
    "***\n",
    "## 👨🏻‍💻 __Code Changes__\n",
    "\n"
   ]
  },
  {
   "attachments": {},
   "cell_type": "markdown",
   "metadata": {},
   "source": [
    "### __1. Libraries and Data import__"
   ]
  },
  {
   "cell_type": "code",
   "execution_count": 66,
   "metadata": {},
   "outputs": [
    {
     "name": "stderr",
     "output_type": "stream",
     "text": [
      "[nltk_data] Downloading package stopwords to\n",
      "[nltk_data]     C:\\Users\\joaom\\AppData\\Roaming\\nltk_data...\n",
      "[nltk_data]   Package stopwords is already up-to-date!\n",
      "[nltk_data] Downloading package punkt to\n",
      "[nltk_data]     C:\\Users\\joaom\\AppData\\Roaming\\nltk_data...\n",
      "[nltk_data]   Package punkt is already up-to-date!\n",
      "[nltk_data] Downloading package wordnet to\n",
      "[nltk_data]     C:\\Users\\joaom\\AppData\\Roaming\\nltk_data...\n",
      "[nltk_data]   Package wordnet is already up-to-date!\n"
     ]
    },
    {
     "data": {
      "text/plain": [
       "True"
      ]
     },
     "execution_count": 66,
     "metadata": {},
     "output_type": "execute_result"
    }
   ],
   "source": [
    "import re\n",
    "import pandas as pd\n",
    "import seaborn as sns\n",
    "import matplotlib.pyplot as plt\n",
    "from tqdm import tqdm\n",
    "from nltk.corpus import stopwords\n",
    "from nltk.stem import SnowballStemmer\n",
    "from nltk.stem.wordnet import WordNetLemmatizer\n",
    "from nltk.tokenize import word_tokenize\n",
    "\n",
    "nltk.download('stopwords')\n",
    "nltk.download('punkt')\n",
    "nltk.download('wordnet')"
   ]
  },
  {
   "cell_type": "code",
   "execution_count": 67,
   "metadata": {},
   "outputs": [],
   "source": [
    "corpora_test = pd.read_excel('test.xlsx') \n",
    "corpora_train = pd.read_excel('train.xlsx') \n",
    "corpora_test_review = pd.read_excel('test_reviews.xlsx')\n",
    "corpora_train_review = pd.read_excel('train_reviews.xlsx')"
   ]
  },
  {
   "attachments": {},
   "cell_type": "markdown",
   "metadata": {},
   "source": [
    "## 1. Data Exploration \n",
    "* data presentation and explanation of the main finding from the exploratory analysis (accounts for 50% of criteria 4.1)."
   ]
  },
  {
   "cell_type": "code",
   "execution_count": 68,
   "metadata": {},
   "outputs": [
    {
     "name": "stdout",
     "output_type": "stream",
     "text": [
      "<class 'pandas.core.frame.DataFrame'>\n",
      "RangeIndex: 1389 entries, 0 to 1388\n",
      "Data columns (total 3 columns):\n",
      " #   Column       Non-Null Count  Dtype \n",
      "---  ------       --------------  ----- \n",
      " 0   index        1389 non-null   int64 \n",
      " 1   description  1389 non-null   object\n",
      " 2   host_about   1389 non-null   object\n",
      "dtypes: int64(1), object(2)\n",
      "memory usage: 32.7+ KB\n"
     ]
    }
   ],
   "source": [
    "# Check data information\n",
    "corpora_test.info()"
   ]
  },
  {
   "cell_type": "code",
   "execution_count": 69,
   "metadata": {},
   "outputs": [
    {
     "name": "stdout",
     "output_type": "stream",
     "text": [
      "<class 'pandas.core.frame.DataFrame'>\n",
      "RangeIndex: 12496 entries, 0 to 12495\n",
      "Data columns (total 4 columns):\n",
      " #   Column       Non-Null Count  Dtype \n",
      "---  ------       --------------  ----- \n",
      " 0   index        12496 non-null  int64 \n",
      " 1   description  12496 non-null  object\n",
      " 2   host_about   12496 non-null  object\n",
      " 3   unlisted     12496 non-null  int64 \n",
      "dtypes: int64(2), object(2)\n",
      "memory usage: 390.6+ KB\n"
     ]
    }
   ],
   "source": [
    "corpora_train.info()"
   ]
  },
  {
   "cell_type": "code",
   "execution_count": 70,
   "metadata": {},
   "outputs": [
    {
     "name": "stdout",
     "output_type": "stream",
     "text": [
      "<class 'pandas.core.frame.DataFrame'>\n",
      "RangeIndex: 80877 entries, 0 to 80876\n",
      "Data columns (total 2 columns):\n",
      " #   Column    Non-Null Count  Dtype \n",
      "---  ------    --------------  ----- \n",
      " 0   index     80877 non-null  int64 \n",
      " 1   comments  80877 non-null  object\n",
      "dtypes: int64(1), object(1)\n",
      "memory usage: 1.2+ MB\n"
     ]
    }
   ],
   "source": [
    "corpora_test_review.info()"
   ]
  },
  {
   "cell_type": "code",
   "execution_count": 71,
   "metadata": {},
   "outputs": [
    {
     "name": "stdout",
     "output_type": "stream",
     "text": [
      "<class 'pandas.core.frame.DataFrame'>\n",
      "RangeIndex: 721402 entries, 0 to 721401\n",
      "Data columns (total 2 columns):\n",
      " #   Column    Non-Null Count   Dtype \n",
      "---  ------    --------------   ----- \n",
      " 0   index     721402 non-null  int64 \n",
      " 1   comments  721398 non-null  object\n",
      "dtypes: int64(1), object(1)\n",
      "memory usage: 11.0+ MB\n"
     ]
    }
   ],
   "source": [
    "corpora_train_review.info()"
   ]
  },
  {
   "cell_type": "code",
   "execution_count": 72,
   "metadata": {},
   "outputs": [
    {
     "data": {
      "text/html": [
       "<div>\n",
       "<style scoped>\n",
       "    .dataframe tbody tr th:only-of-type {\n",
       "        vertical-align: middle;\n",
       "    }\n",
       "\n",
       "    .dataframe tbody tr th {\n",
       "        vertical-align: top;\n",
       "    }\n",
       "\n",
       "    .dataframe thead th {\n",
       "        text-align: right;\n",
       "    }\n",
       "</style>\n",
       "<table border=\"1\" class=\"dataframe\">\n",
       "  <thead>\n",
       "    <tr style=\"text-align: right;\">\n",
       "      <th></th>\n",
       "      <th>index</th>\n",
       "      <th>description</th>\n",
       "      <th>host_about</th>\n",
       "      <th>unlisted</th>\n",
       "    </tr>\n",
       "  </thead>\n",
       "  <tbody>\n",
       "    <tr>\n",
       "      <th>0</th>\n",
       "      <td>1</td>\n",
       "      <td>This is a shared mixed room in our hostel, wit...</td>\n",
       "      <td>Alojamento Local Registro: 20835/AL</td>\n",
       "      <td>0</td>\n",
       "    </tr>\n",
       "    <tr>\n",
       "      <th>1</th>\n",
       "      <td>2</td>\n",
       "      <td>O meu espaço fica perto de Parque Eduardo VII,...</td>\n",
       "      <td>I am friendly host, and I will try to always b...</td>\n",
       "      <td>1</td>\n",
       "    </tr>\n",
       "  </tbody>\n",
       "</table>\n",
       "</div>"
      ],
      "text/plain": [
       "   index                                        description   \n",
       "0      1  This is a shared mixed room in our hostel, wit...  \\\n",
       "1      2  O meu espaço fica perto de Parque Eduardo VII,...   \n",
       "\n",
       "                                          host_about  unlisted  \n",
       "0                Alojamento Local Registro: 20835/AL         0  \n",
       "1  I am friendly host, and I will try to always b...         1  "
      ]
     },
     "execution_count": 72,
     "metadata": {},
     "output_type": "execute_result"
    }
   ],
   "source": [
    "corpora_train.head(2)"
   ]
  },
  {
   "cell_type": "code",
   "execution_count": 73,
   "metadata": {},
   "outputs": [
    {
     "data": {
      "text/html": [
       "<div>\n",
       "<style scoped>\n",
       "    .dataframe tbody tr th:only-of-type {\n",
       "        vertical-align: middle;\n",
       "    }\n",
       "\n",
       "    .dataframe tbody tr th {\n",
       "        vertical-align: top;\n",
       "    }\n",
       "\n",
       "    .dataframe thead th {\n",
       "        text-align: right;\n",
       "    }\n",
       "</style>\n",
       "<table border=\"1\" class=\"dataframe\">\n",
       "  <thead>\n",
       "    <tr style=\"text-align: right;\">\n",
       "      <th></th>\n",
       "      <th>index</th>\n",
       "      <th>description</th>\n",
       "      <th>host_about</th>\n",
       "    </tr>\n",
       "  </thead>\n",
       "  <tbody>\n",
       "    <tr>\n",
       "      <th>0</th>\n",
       "      <td>1</td>\n",
       "      <td>&lt;b&gt;The space&lt;/b&gt;&lt;br /&gt;Apartment located in the...</td>\n",
       "      <td>Gosto de viajar, de conhecer pessoas, gosto de...</td>\n",
       "    </tr>\n",
       "    <tr>\n",
       "      <th>1</th>\n",
       "      <td>2</td>\n",
       "      <td>IMPORTANT: In response to COVID-19, this prope...</td>\n",
       "      <td>We are the be@home Team!\\n\\nYou can count on u...</td>\n",
       "    </tr>\n",
       "  </tbody>\n",
       "</table>\n",
       "</div>"
      ],
      "text/plain": [
       "   index                                        description   \n",
       "0      1  <b>The space</b><br />Apartment located in the...  \\\n",
       "1      2  IMPORTANT: In response to COVID-19, this prope...   \n",
       "\n",
       "                                          host_about  \n",
       "0  Gosto de viajar, de conhecer pessoas, gosto de...  \n",
       "1  We are the be@home Team!\\n\\nYou can count on u...  "
      ]
     },
     "execution_count": 73,
     "metadata": {},
     "output_type": "execute_result"
    }
   ],
   "source": [
    "corpora_test.head(2)"
   ]
  },
  {
   "cell_type": "code",
   "execution_count": 74,
   "metadata": {},
   "outputs": [
    {
     "data": {
      "image/png": "[encoded data removed]",
      "text/plain": [
       "<Figure size 1000x500 with 1 Axes>"
      ]
     },
     "metadata": {},
     "output_type": "display_data"
    }
   ],
   "source": [
    "import matplotlib.pyplot as plt\n",
    "import seaborn as sns\n",
    "\n",
    "plt.figure(figsize=(10, 5))\n",
    "plt.xticks(rotation=90)\n",
    "\n",
    "blue_palette = sns.color_palette(\"Blues\")\n",
    "# Plot the countplot\n",
    "ax = sns.countplot(y=\"unlisted\", data=corpora_train, palette=blue_palette)\n",
    "\n",
    "# Calculate the percentage for each category\n",
    "total = len(corpora_train)\n",
    "for p in ax.patches:\n",
    "    percentage = '{:.1f}%'.format(100 * p.get_width() / total)\n",
    "    x = p.get_x() + p.get_width() + 0.02\n",
    "    y = p.get_y() + p.get_height() / 2\n",
    "    ax.annotate(percentage, (x, y))\n",
    "\n",
    "plt.show()\n"
   ]
  },
  {
   "attachments": {},
   "cell_type": "markdown",
   "metadata": {},
   "source": [
    "__After data analysis can be noted that:__\n",
    "\n",
    "> File `corpora_train_review`:\n",
    "__Features__:\n",
    "\n",
    "1. __[index]__ - (Int) Index correspondency with Index in file `corpora_train`\n",
    "2. __[comments]__ - (Str) Each comment per line\n",
    "\n",
    "\n",
    "> File `corpora_test_review`:\n",
    "__Features__:\n",
    "\n",
    "1. __[index]__ - (Int) Index correspondency with Index in file `corpora_test`\n",
    "2. __[comments]__ - (Str) Each comment per line\n",
    "\n",
    "\n",
    "> File `corpora_train`:\n",
    "__Features__:\n",
    "\n",
    "1. __[index]__ - (Int) Index correspondency\n",
    "2. __[description]__ - (Str) Description of the asset\n",
    "3. __[host_about]__ - (Str) Description of the asset host\n",
    "4. __[unlisted]__ - (Bool) Is asset unlisted or not \n",
    "\n",
    "> File `corpora_test`:\n",
    "__Features__:\n",
    "\n",
    "1. __[index]__ - (Int) Index correspondency\n",
    "2. __[description]__ - (Str) Description of the asset\n",
    "3. __[host_about]__ - (Str) Description of the asset host\n",
    "\n",
    "\n",
    "Is also noted that train data is not balanced, model will be train with ~28% of unlisted individuals."
   ]
  },
  {
   "attachments": {},
   "cell_type": "markdown",
   "metadata": {},
   "source": [
    "## 2. Data Preprocessing \n",
    "* explanation of the different preprocessing methods developed (accounts for 25% of criteria 4.Erro! A origem da referência não foi encontrada.).\n",
    "\n",
    "__Data Cleaning:__\n",
    "\n",
    "* __Lowercase text__\n",
    "> Converting everything to lowercase reducing vocabulary size\n",
    "\n",
    "* __Remove Numerical Data and Punctuation__\n",
    "> Normalize Dates and Numbers\n",
    "\n",
    "* __Remove Stop Words__\n",
    "> Removing words that are not very informative. Less tokens same meaning.\n",
    "\n",
    "* __Lemmatize__\n",
    "> Turning words into their root word\n",
    "\n",
    "* __Stemmer__\n",
    "> Remove last few characters to obtain the shorter form of each word\n",
    "\n",
    "***"
   ]
  },
  {
   "cell_type": "code",
   "execution_count": 75,
   "metadata": {},
   "outputs": [
    {
     "name": "stderr",
     "output_type": "stream",
     "text": [
      "100%|██████████| 12496/12496 [00:52<00:00, 237.54it/s]\n"
     ]
    }
   ],
   "source": [
    "# Data Pre Processing\n",
    "\n",
    "stop = stopwords.words('english')\n",
    "lemma = WordNetLemmatizer()\n",
    "\n",
    "def pre_process(text_list, lemmatize, stemmer):\n",
    "    \n",
    "    updates = []\n",
    "    \n",
    "    for j in tqdm(text_list):\n",
    "        \n",
    "        text = j\n",
    "        # Tokenize the text\n",
    "        text = word_tokenize(text)\n",
    "        \n",
    "        # Join the tokens back into a single string\n",
    "        text = ' '.join(text)\n",
    "        \n",
    "        # Lowercase text\n",
    "        text = text.lower()\n",
    "        \n",
    "        # Remove tags\n",
    "        text = re.sub(\"&lt;/?.*?&gt;\", \" &lt;&gt; \", text)\n",
    "        \n",
    "        # Remove special characters and digits\n",
    "        text = re.sub(\"[^a-zA-Z]\", \" \", text)\n",
    "        text = re.sub(\"br\", \"\", text)\n",
    "        text = re.sub(\"(\\\\d|\\\\W)+\", \" \", text)\n",
    "        \n",
    "        # Remove stopwords\n",
    "        text = \" \".join([word for word in text.split() if word not in stop])\n",
    "        \n",
    "        # Lemmatize\n",
    "        if lemmatize:\n",
    "            text = \" \".join(lemma.lemmatize(word) for word in text.split())\n",
    "        \n",
    "        # Stemming\n",
    "        if stemmer:\n",
    "            stemmer = SnowballStemmer('english')\n",
    "            text = \" \".join(stemmer.stem(word) for word in text.split())\n",
    "            \n",
    "        updates.append(text)\n",
    "        \n",
    "    return updates\n",
    "\n",
    "corpora_train['description_clean'] = pre_process(corpora_train['description'], lemmatize=True, stemmer=True)\n"
   ]
  },
  {
   "cell_type": "code",
   "execution_count": 76,
   "metadata": {},
   "outputs": [
    {
     "name": "stderr",
     "output_type": "stream",
     "text": [
      "100%|██████████| 12496/12496 [00:31<00:00, 401.51it/s]\n"
     ]
    }
   ],
   "source": [
    "corpora_train['host_about_clean'] = pre_process(corpora_train['host_about'], lemmatize=True, stemmer=True)\n"
   ]
  },
  {
   "cell_type": "code",
   "execution_count": 77,
   "metadata": {},
   "outputs": [
    {
     "name": "stderr",
     "output_type": "stream",
     "text": [
      "100%|██████████| 1389/1389 [00:06<00:00, 229.69it/s]\n"
     ]
    }
   ],
   "source": [
    "corpora_test['description_clean'] = pre_process(corpora_test['description'], lemmatize=True, stemmer=True)\n"
   ]
  },
  {
   "cell_type": "code",
   "execution_count": 78,
   "metadata": {},
   "outputs": [
    {
     "name": "stderr",
     "output_type": "stream",
     "text": [
      "100%|██████████| 1389/1389 [00:03<00:00, 372.60it/s]\n"
     ]
    }
   ],
   "source": [
    "corpora_test['host_about_clean'] = pre_process(corpora_test['host_about'], lemmatize=True, stemmer=True)\n"
   ]
  },
  {
   "cell_type": "code",
   "execution_count": 79,
   "metadata": {},
   "outputs": [
    {
     "name": "stderr",
     "output_type": "stream",
     "text": [
      "100%|██████████| 80877/80877 [02:22<00:00, 567.89it/s]\n"
     ]
    }
   ],
   "source": [
    "corpora_test_review['comments_clean'] = pre_process(corpora_test_review['comments'], lemmatize=True, stemmer=True)\n"
   ]
  },
  {
   "cell_type": "code",
   "execution_count": 80,
   "metadata": {},
   "outputs": [
    {
     "name": "stderr",
     "output_type": "stream",
     "text": [
      "  7%|▋         | 51779/721402 [01:31<17:25, 640.38it/s]"
     ]
    }
   ],
   "source": [
    "corpora_train_review['comments_clean'] = pre_process(corpora_train_review['comments'], lemmatize=True, stemmer=True)\n"
   ]
  },
  {
   "cell_type": "code",
   "execution_count": null,
   "metadata": {},
   "outputs": [],
   "source": []
  },
  {
   "attachments": {},
   "cell_type": "markdown",
   "metadata": {},
   "source": [
    "## 3. Feature Engineering\n",
    "* description of the methods implemented (accounts for 25% of\n",
    "criteria 4.3)"
   ]
  },
  {
   "attachments": {},
   "cell_type": "markdown",
   "metadata": {},
   "source": [
    "## 4. Classification Models\n",
    "* description of the models implemented (accounts for 25% of criteria 4.4)"
   ]
  },
  {
   "cell_type": "code",
   "execution_count": null,
   "metadata": {},
   "outputs": [],
   "source": []
  }
 ],
 "metadata": {
  "kernelspec": {
   "display_name": "Python 3",
   "language": "python",
   "name": "python3"
  },
  "language_info": {
   "codemirror_mode": {
    "name": "ipython",
    "version": 3
   },
   "file_extension": ".py",
   "mimetype": "text/x-python",
   "name": "python",
   "nbconvert_exporter": "python",
   "pygments_lexer": "ipython3",
   "version": "3.11.3"
  },
  "orig_nbformat": 4
 },
 "nbformat": 4,
 "nbformat_minor": 2
}
